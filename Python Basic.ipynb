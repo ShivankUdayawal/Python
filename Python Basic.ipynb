{
 "cells": [
  {
   "cell_type": "code",
   "execution_count": 1,
   "metadata": {},
   "outputs": [
    {
     "data": {
      "text/plain": [
       "list"
      ]
     },
     "execution_count": 1,
     "metadata": {},
     "output_type": "execute_result"
    }
   ],
   "source": [
    "# list\n",
    "# collection of ordered and chnageable, allow duplicates\n",
    "x = [\"A\", \"B\", \"C\"]\n",
    "type(x)"
   ]
  },
  {
   "cell_type": "code",
   "execution_count": 2,
   "metadata": {},
   "outputs": [
    {
     "data": {
      "text/plain": [
       "tuple"
      ]
     },
     "execution_count": 2,
     "metadata": {},
     "output_type": "execute_result"
    }
   ],
   "source": [
    "#tuple\n",
    "# collection of ordered and unchnageable, allow duplicates\n",
    "y = (\"A\", \"B\", \"C\")\n",
    "type(y)"
   ]
  },
  {
   "cell_type": "code",
   "execution_count": 3,
   "metadata": {},
   "outputs": [
    {
     "data": {
      "text/plain": [
       "range"
      ]
     },
     "execution_count": 3,
     "metadata": {},
     "output_type": "execute_result"
    }
   ],
   "source": [
    "#range\n",
    "z = range(6)\n",
    "z\n",
    "type(z)"
   ]
  },
  {
   "cell_type": "code",
   "execution_count": 4,
   "metadata": {},
   "outputs": [
    {
     "data": {
      "text/plain": [
       "dict"
      ]
     },
     "execution_count": 4,
     "metadata": {},
     "output_type": "execute_result"
    }
   ],
   "source": [
    "#dict\n",
    "# collection of ordered and chnageable, no duplicates\n",
    "a = {\"name\":\"shiv\",\"age\":25}\n",
    "a\n",
    "type(a)"
   ]
  },
  {
   "cell_type": "code",
   "execution_count": 5,
   "metadata": {},
   "outputs": [
    {
     "data": {
      "text/plain": [
       "set"
      ]
     },
     "execution_count": 5,
     "metadata": {},
     "output_type": "execute_result"
    }
   ],
   "source": [
    "#set\n",
    "# collection of unordered, unchnageable and unindexed, no duplicates\n",
    "b = {\"A\",\"B\",\"C\"}\n",
    "b\n",
    "type(b)"
   ]
  },
  {
   "cell_type": "code",
   "execution_count": 6,
   "metadata": {},
   "outputs": [
    {
     "data": {
      "text/plain": [
       "frozenset"
      ]
     },
     "execution_count": 6,
     "metadata": {},
     "output_type": "execute_result"
    }
   ],
   "source": [
    "#frozenset\n",
    "c = frozenset({\"A\",\"B\",\"C\"})\n",
    "c\n",
    "type(c)"
   ]
  },
  {
   "cell_type": "code",
   "execution_count": 7,
   "metadata": {},
   "outputs": [
    {
     "data": {
      "text/plain": [
       "bytes"
      ]
     },
     "execution_count": 7,
     "metadata": {},
     "output_type": "execute_result"
    }
   ],
   "source": [
    "#bytes\n",
    "d = b\"Hello\"\n",
    "d\n",
    "type(d)"
   ]
  },
  {
   "cell_type": "code",
   "execution_count": 8,
   "metadata": {},
   "outputs": [
    {
     "data": {
      "text/plain": [
       "bytearray"
      ]
     },
     "execution_count": 8,
     "metadata": {},
     "output_type": "execute_result"
    }
   ],
   "source": [
    "#bytearray\n",
    "e = bytearray(5)\n",
    "e\n",
    "type(e)"
   ]
  },
  {
   "cell_type": "code",
   "execution_count": 9,
   "metadata": {},
   "outputs": [
    {
     "data": {
      "text/plain": [
       "memoryview"
      ]
     },
     "execution_count": 9,
     "metadata": {},
     "output_type": "execute_result"
    }
   ],
   "source": [
    "#memoryview\n",
    "f = memoryview(bytes(5))\n",
    "f\n",
    "type(f)"
   ]
  },
  {
   "cell_type": "code",
   "execution_count": 10,
   "metadata": {},
   "outputs": [
    {
     "data": {
      "text/plain": [
       "float"
      ]
     },
     "execution_count": 10,
     "metadata": {},
     "output_type": "execute_result"
    }
   ],
   "source": [
    "g = -35.26\n",
    "type(g)"
   ]
  },
  {
   "cell_type": "code",
   "execution_count": 11,
   "metadata": {},
   "outputs": [
    {
     "data": {
      "text/plain": [
       "-35"
      ]
     },
     "execution_count": 11,
     "metadata": {},
     "output_type": "execute_result"
    }
   ],
   "source": [
    "int(g)"
   ]
  },
  {
   "cell_type": "code",
   "execution_count": 12,
   "metadata": {},
   "outputs": [
    {
     "data": {
      "text/plain": [
       "(-35.26+0j)"
      ]
     },
     "execution_count": 12,
     "metadata": {},
     "output_type": "execute_result"
    }
   ],
   "source": [
    "complex(g)"
   ]
  },
  {
   "cell_type": "code",
   "execution_count": 13,
   "metadata": {},
   "outputs": [
    {
     "name": "stdout",
     "output_type": "stream",
     "text": [
      "3\n"
     ]
    }
   ],
   "source": [
    "#printing random no b/w 1 to 10\n",
    "import random\n",
    "print(random.randrange(1,10))"
   ]
  },
  {
   "cell_type": "code",
   "execution_count": 14,
   "metadata": {},
   "outputs": [
    {
     "data": {
      "text/plain": [
       "3.0"
      ]
     },
     "execution_count": 14,
     "metadata": {},
     "output_type": "execute_result"
    }
   ],
   "source": [
    "h = int(\"3\")\n",
    "h = float(\"3\")\n",
    "h"
   ]
  },
  {
   "cell_type": "code",
   "execution_count": 15,
   "metadata": {},
   "outputs": [
    {
     "name": "stdout",
     "output_type": "stream",
     "text": [
      "H\n",
      "!\n",
      "Hello world!\n",
      "Hello world!\n",
      "!dlrow olleH\n",
      "llo\n",
      "Hello\n",
      "llo world!\n",
      "orl\n",
      "llo world!\n"
     ]
    }
   ],
   "source": [
    "i = \"Hello world!\"\n",
    "print(i[0])\n",
    "print(i[-1])\n",
    "print(i[:])\n",
    "print(i[::])\n",
    "print(i[::-1])\n",
    "print(i[2:5])\n",
    "print(i[:5])\n",
    "print(i[2:])\n",
    "print(i[-5:-2])\n",
    "print(i[2::])"
   ]
  },
  {
   "cell_type": "code",
   "execution_count": 16,
   "metadata": {},
   "outputs": [
    {
     "data": {
      "text/plain": [
       "12"
      ]
     },
     "execution_count": 16,
     "metadata": {},
     "output_type": "execute_result"
    }
   ],
   "source": [
    "len(i)"
   ]
  },
  {
   "cell_type": "code",
   "execution_count": 17,
   "metadata": {},
   "outputs": [
    {
     "name": "stdout",
     "output_type": "stream",
     "text": [
      "True\n",
      "False\n",
      "Yes\n",
      "True\n",
      "False\n"
     ]
    }
   ],
   "source": [
    "#checking character present in the string or not\n",
    "print(\"o\" in i)\n",
    "print(\"O\" in i)\n",
    "if \"o\" in i:\n",
    "    print(\"Yes\")\n",
    "    \n",
    "print(\"a\" not in i)\n",
    "print(\"H\" not in i)"
   ]
  },
  {
   "cell_type": "code",
   "execution_count": 18,
   "metadata": {},
   "outputs": [
    {
     "name": "stdout",
     "output_type": "stream",
     "text": [
      "HELLO WORLD!\n",
      "hello world!\n",
      "Hello world!\n",
      "HellO wOrld!\n",
      "['Hello', 'world!']\n"
     ]
    }
   ],
   "source": [
    "print(i.upper())\n",
    "print(i.lower())\n",
    "print(i.strip()) #remove any blank space from the beginning or the end\n",
    "print(i.replace(\"o\", \"O\"))\n",
    "print(i.split(\" \")) #splits the srting into substrings"
   ]
  },
  {
   "cell_type": "code",
   "execution_count": 19,
   "metadata": {},
   "outputs": [
    {
     "name": "stdout",
     "output_type": "stream",
     "text": [
      "Hello world!How are you ? {}\n",
      "Hello world! How are you ? {}\n"
     ]
    }
   ],
   "source": [
    "j = \"How are you ? {}\"\n",
    "print(i + j)\n",
    "print(i + \" \" + j)"
   ]
  },
  {
   "cell_type": "code",
   "execution_count": 20,
   "metadata": {},
   "outputs": [
    {
     "name": "stdout",
     "output_type": "stream",
     "text": [
      "How are you ? 19\n"
     ]
    }
   ],
   "source": [
    "age = 19\n",
    "print(j.format(age)) #format is used to insert no into string but string has to {} inside the string"
   ]
  },
  {
   "cell_type": "code",
   "execution_count": 21,
   "metadata": {},
   "outputs": [
    {
     "name": "stdout",
     "output_type": "stream",
     "text": [
      "I want 2 piece of item 4 for 65.98 pound\n",
      "I want 2 piece of item 4 for 65.98 pound\n"
     ]
    }
   ],
   "source": [
    "quantity = 2\n",
    "item = 4\n",
    "price = 65.98\n",
    "order = \"I want {} piece of item {} for {} pound\"\n",
    "print(order.format(quantity,item,price))\n",
    "\n",
    "myorder = \"I want {0} piece of item {1} for {2} pound\"\n",
    "print(myorder.format(quantity,item,price))"
   ]
  },
  {
   "cell_type": "code",
   "execution_count": 22,
   "metadata": {},
   "outputs": [
    {
     "name": "stdout",
     "output_type": "stream",
     "text": [
      "I want 's piece of item 's for \n",
      " pound\n"
     ]
    }
   ],
   "source": [
    "orders = \"I want \\'s piece of item \\'s for \\n pound\"\n",
    "print(orders)"
   ]
  },
  {
   "cell_type": "code",
   "execution_count": 23,
   "metadata": {},
   "outputs": [
    {
     "name": "stdout",
     "output_type": "stream",
     "text": [
      "Hello world!\n",
      "    Hello world!    \n",
      "2\n",
      "b'Hello world!'\n",
      "True\n",
      "False\n",
      "6\n"
     ]
    }
   ],
   "source": [
    "print(i.capitalize())  #convert first letter to upper case\n",
    "print(i.center(20))  #centre the string\n",
    "print(i.count(\"o\")) #count the no of times a word appears\n",
    "print(i.encode())   #encoded version of srting\n",
    "print(i.endswith(\"!\"))  #true if string ends with that character\n",
    "print(i.endswith(\"a\"))\n",
    "print(i.find(\"w\")) #returned the position of that character"
   ]
  },
  {
   "cell_type": "code",
   "execution_count": 24,
   "metadata": {},
   "outputs": [
    {
     "name": "stdout",
     "output_type": "stream",
     "text": [
      "True\n",
      "False\n",
      "True\n",
      "True\n",
      "True\n"
     ]
    }
   ],
   "source": [
    "print(10>9)\n",
    "print(10<=9)\n",
    "print(10!=9)\n",
    "print(bool(\"Hello\"))\n",
    "print(bool(567))"
   ]
  },
  {
   "cell_type": "code",
   "execution_count": 25,
   "metadata": {},
   "outputs": [
    {
     "name": "stdout",
     "output_type": "stream",
     "text": [
      "True\n"
     ]
    }
   ],
   "source": [
    "#function that return  boolean value\n",
    "def myFunction():\n",
    "    return True\n",
    "\n",
    "print(myFunction())"
   ]
  },
  {
   "cell_type": "code",
   "execution_count": 26,
   "metadata": {},
   "outputs": [
    {
     "name": "stdout",
     "output_type": "stream",
     "text": [
      "Yes\n"
     ]
    },
    {
     "data": {
      "text/plain": [
       "True"
      ]
     },
     "execution_count": 26,
     "metadata": {},
     "output_type": "execute_result"
    }
   ],
   "source": [
    "# print yes if function return true otherwise false\n",
    "def myFunction():\n",
    "    return True\n",
    "if myFunction():\n",
    "    print(\"Yes\")\n",
    "else:\n",
    "    print(\"no\")\n",
    "    \n",
    "myFunction()"
   ]
  },
  {
   "cell_type": "code",
   "execution_count": 27,
   "metadata": {},
   "outputs": [
    {
     "name": "stdout",
     "output_type": "stream",
     "text": [
      "5.0\n",
      "0\n",
      "100\n",
      "5\n"
     ]
    }
   ],
   "source": [
    "print(10/2)\n",
    "print(10%2) #remainder\n",
    "print(10**2)\n",
    "print(10//2) #div"
   ]
  },
  {
   "cell_type": "code",
   "execution_count": 28,
   "metadata": {},
   "outputs": [
    {
     "name": "stdout",
     "output_type": "stream",
     "text": [
      "1\n",
      "3\n",
      "0\n",
      "0\n",
      "0\n"
     ]
    }
   ],
   "source": [
    "k = 5\n",
    "k &= 3 # k = k & 3   # $ AND - set each bit to 1 if both bits are 1\n",
    "print(k)\n",
    "\n",
    "k |= 3     # | OR - sets each bit to 1 if one of two bits is 1\n",
    "print(k)\n",
    "\n",
    "k ^=3      # ^ XOR - sets each bit to 1 if only one of two bits is 1\n",
    "print(k)\n",
    "\n",
    "k >>=3     # signed right shift\n",
    "print(k)\n",
    "\n",
    "k <<=3  #   << Zero fill left shift\n",
    "print(k)"
   ]
  },
  {
   "cell_type": "markdown",
   "metadata": {},
   "source": [
    "## List"
   ]
  },
  {
   "cell_type": "code",
   "execution_count": 29,
   "metadata": {},
   "outputs": [
    {
     "data": {
      "text/plain": [
       "['A', 'B', 'C']"
      ]
     },
     "execution_count": 29,
     "metadata": {},
     "output_type": "execute_result"
    }
   ],
   "source": [
    "x"
   ]
  },
  {
   "cell_type": "code",
   "execution_count": 30,
   "metadata": {},
   "outputs": [
    {
     "name": "stdout",
     "output_type": "stream",
     "text": [
      "<class 'list'>\n",
      "3\n",
      "['A', 'B']\n",
      "['C', 'B', 'A']\n",
      "['A', 'B', 'D']\n",
      "['X', 'Y', 'Z', 'D']\n"
     ]
    }
   ],
   "source": [
    "print(type(x))\n",
    "print(len(x))\n",
    "print(x[:2:])\n",
    "print(x[::-1]) # reverse the list\n",
    "x[2] = \"D\"\n",
    "print(x)\n",
    "x[0:2] = [\"X\", \"Y\", \"Z\"]\n",
    "print(x)"
   ]
  },
  {
   "cell_type": "code",
   "execution_count": 31,
   "metadata": {},
   "outputs": [
    {
     "name": "stdout",
     "output_type": "stream",
     "text": [
      "None\n"
     ]
    },
    {
     "data": {
      "text/plain": [
       "['X', 'Y', 'G', 'Z', 'D']"
      ]
     },
     "execution_count": 31,
     "metadata": {},
     "output_type": "execute_result"
    }
   ],
   "source": [
    "print((x.insert(2, \"G\")))  #insert an item at specified index\n",
    "x"
   ]
  },
  {
   "cell_type": "code",
   "execution_count": 32,
   "metadata": {},
   "outputs": [
    {
     "data": {
      "text/plain": [
       "['X', 'Y', 'G', 'Z', 'D', 'A']"
      ]
     },
     "execution_count": 32,
     "metadata": {},
     "output_type": "execute_result"
    }
   ],
   "source": [
    "x.append(\"A\") # append to add an item at last\n",
    "x"
   ]
  },
  {
   "cell_type": "code",
   "execution_count": 33,
   "metadata": {},
   "outputs": [
    {
     "name": "stdout",
     "output_type": "stream",
     "text": [
      "['X', 'Y', 'G', 'Z', 'D', 'A', 'A', 'B', 'C', 'D', 'E', 'F', 'G']\n"
     ]
    }
   ],
   "source": [
    "x1 = [\"A\", \"B\", \"C\", \"D\", \"E\", \"F\", \"G\"]\n",
    "x.extend(x1)     # append elements from another list to current list\n",
    "print(x)"
   ]
  },
  {
   "cell_type": "code",
   "execution_count": 34,
   "metadata": {},
   "outputs": [
    {
     "name": "stdout",
     "output_type": "stream",
     "text": [
      "['X', 'Y', 'G', 'Z', 'D', 'A', 'A', 'B', 'C', 'D', 'E', 'F', 'G', 'A', 'B', 'C']\n"
     ]
    }
   ],
   "source": [
    "x.extend(y) # append elements from tuple\n",
    "print(x)"
   ]
  },
  {
   "cell_type": "code",
   "execution_count": 35,
   "metadata": {},
   "outputs": [
    {
     "name": "stdout",
     "output_type": "stream",
     "text": [
      "['X', 'Y', 'G', 'Z', 'A', 'A', 'B', 'C', 'D', 'E', 'F', 'G', 'A', 'B', 'C']\n"
     ]
    }
   ],
   "source": [
    "x.remove(\"D\") #remove\n",
    "print(x)"
   ]
  },
  {
   "cell_type": "code",
   "execution_count": 36,
   "metadata": {},
   "outputs": [
    {
     "name": "stdout",
     "output_type": "stream",
     "text": [
      "['X', 'G', 'Z', 'A', 'A', 'B', 'C', 'D', 'E', 'F', 'G', 'A', 'B', 'C']\n"
     ]
    }
   ],
   "source": [
    "x.pop(1)   # pop - remove using index value\n",
    "print(x)"
   ]
  },
  {
   "cell_type": "code",
   "execution_count": 37,
   "metadata": {},
   "outputs": [
    {
     "name": "stdout",
     "output_type": "stream",
     "text": [
      "['G', 'Z', 'A', 'A', 'B', 'C', 'D', 'E', 'F', 'G', 'A', 'B', 'C']\n"
     ]
    }
   ],
   "source": [
    "del x[0]  # del - delete = removes the specified index\n",
    "print(x)"
   ]
  },
  {
   "cell_type": "code",
   "execution_count": 38,
   "metadata": {},
   "outputs": [],
   "source": [
    "#x.clear()  #empty the list\n",
    "#print(x)"
   ]
  },
  {
   "cell_type": "code",
   "execution_count": 39,
   "metadata": {},
   "outputs": [
    {
     "data": {
      "text/plain": [
       "['G', 'Z', 'A', 'A', 'B', 'C', 'D', 'E', 'F', 'G', 'A', 'B', 'C']"
      ]
     },
     "execution_count": 39,
     "metadata": {},
     "output_type": "execute_result"
    }
   ],
   "source": [
    "x"
   ]
  },
  {
   "cell_type": "code",
   "execution_count": 40,
   "metadata": {},
   "outputs": [
    {
     "name": "stdout",
     "output_type": "stream",
     "text": [
      "G\n",
      "Z\n",
      "A\n",
      "A\n",
      "B\n",
      "C\n",
      "D\n",
      "E\n",
      "F\n",
      "G\n",
      "A\n",
      "B\n",
      "C\n"
     ]
    }
   ],
   "source": [
    "for i in x:\n",
    "    print(i)"
   ]
  },
  {
   "cell_type": "code",
   "execution_count": 41,
   "metadata": {},
   "outputs": [
    {
     "name": "stdout",
     "output_type": "stream",
     "text": [
      "0\n",
      "1\n",
      "2\n",
      "3\n",
      "4\n",
      "5\n",
      "6\n",
      "7\n",
      "8\n",
      "9\n",
      "10\n",
      "11\n",
      "12\n"
     ]
    }
   ],
   "source": [
    "# list items by refering to their index number\n",
    "for i in range(len(x)):\n",
    "    print(i)"
   ]
  },
  {
   "cell_type": "code",
   "execution_count": 42,
   "metadata": {},
   "outputs": [
    {
     "name": "stdout",
     "output_type": "stream",
     "text": [
      "G\n",
      "Z\n",
      "A\n",
      "A\n",
      "B\n",
      "C\n",
      "D\n",
      "E\n",
      "F\n",
      "G\n",
      "A\n",
      "B\n",
      "C\n"
     ]
    }
   ],
   "source": [
    "l = 0\n",
    "while l <len(x):\n",
    "    print(x[l])\n",
    "    l = l + 1"
   ]
  },
  {
   "cell_type": "code",
   "execution_count": 43,
   "metadata": {},
   "outputs": [
    {
     "name": "stdout",
     "output_type": "stream",
     "text": [
      "G\n",
      "C\n",
      "B\n",
      "A\n",
      "G\n",
      "F\n",
      "E\n",
      "D\n",
      "C\n",
      "B\n",
      "A\n",
      "A\n",
      "Z\n"
     ]
    }
   ],
   "source": [
    "l = 0\n",
    "while l <len(x):\n",
    "    print(x[-l])\n",
    "    l = l + 1"
   ]
  },
  {
   "cell_type": "code",
   "execution_count": 44,
   "metadata": {},
   "outputs": [
    {
     "name": "stdout",
     "output_type": "stream",
     "text": [
      "G\n",
      "Z\n",
      "A\n",
      "A\n",
      "B\n",
      "C\n",
      "D\n",
      "E\n",
      "F\n",
      "G\n",
      "A\n",
      "B\n",
      "C\n"
     ]
    },
    {
     "data": {
      "text/plain": [
       "[None, None, None, None, None, None, None, None, None, None, None, None, None]"
      ]
     },
     "execution_count": 44,
     "metadata": {},
     "output_type": "execute_result"
    }
   ],
   "source": [
    "[print(i) for i in x]"
   ]
  },
  {
   "cell_type": "code",
   "execution_count": 45,
   "metadata": {},
   "outputs": [
    {
     "name": "stdout",
     "output_type": "stream",
     "text": [
      "['A', 'A', 'A']\n"
     ]
    }
   ],
   "source": [
    "# list comprehension\n",
    "# create an empty list then append the speificed character\n",
    "newlist = []\n",
    "for i in x:\n",
    "    if \"A\" in i:\n",
    "        newlist.append(i)\n",
    "\n",
    "print(newlist)"
   ]
  },
  {
   "cell_type": "code",
   "execution_count": 46,
   "metadata": {},
   "outputs": [
    {
     "name": "stdout",
     "output_type": "stream",
     "text": [
      "['A', 'A', 'A']\n"
     ]
    }
   ],
   "source": [
    "new = [i for i in x if \"A\" in i]\n",
    "print(new)"
   ]
  },
  {
   "cell_type": "code",
   "execution_count": 47,
   "metadata": {},
   "outputs": [
    {
     "name": "stdout",
     "output_type": "stream",
     "text": [
      "['G', 'Z', 'A', 'A', 'B', 'C', 'E', 'F', 'G', 'A', 'B', 'C']\n"
     ]
    }
   ],
   "source": [
    "# syntax\n",
    "# newlist = [expression for item in iterable if condition == True] \n",
    "# return value a new list with leaving old list unchanged\n",
    "\n",
    "newlist = [i for i in x if i != \"D\"]\n",
    "print(newlist)"
   ]
  },
  {
   "cell_type": "code",
   "execution_count": 48,
   "metadata": {},
   "outputs": [
    {
     "name": "stdout",
     "output_type": "stream",
     "text": [
      "[0, 1, 2, 3, 4, 5, 6, 7, 8, 9]\n"
     ]
    }
   ],
   "source": [
    "newlist1 = [i for i in range(10)]\n",
    "print(newlist1)"
   ]
  },
  {
   "cell_type": "code",
   "execution_count": 49,
   "metadata": {},
   "outputs": [
    {
     "name": "stdout",
     "output_type": "stream",
     "text": [
      "[0, 1, 2, 3, 4]\n"
     ]
    }
   ],
   "source": [
    "newlist2 = [i for i in range(10) if i <5]\n",
    "print(newlist2)"
   ]
  },
  {
   "cell_type": "code",
   "execution_count": 50,
   "metadata": {},
   "outputs": [
    {
     "name": "stdout",
     "output_type": "stream",
     "text": [
      "['A', 'A', 'A', 'B', 'B', 'C', 'C', 'D', 'E', 'F', 'G', 'G', 'Z']\n"
     ]
    }
   ],
   "source": [
    "x.sort() # sorting assending\n",
    "print(x)"
   ]
  },
  {
   "cell_type": "code",
   "execution_count": 51,
   "metadata": {},
   "outputs": [
    {
     "data": {
      "text/plain": [
       "[100, 90, 78, 70, 44, 43, 30, 22, 20, 14, 4]"
      ]
     },
     "execution_count": 51,
     "metadata": {},
     "output_type": "execute_result"
    }
   ],
   "source": [
    "X = [100, 30, 20, 4, 70, 43, 78, 44, 22, 14, 90]\n",
    "X.sort()                   # sorting\n",
    "X.sort(reverse = True)     # sorting descending\n",
    "X"
   ]
  },
  {
   "cell_type": "code",
   "execution_count": 52,
   "metadata": {},
   "outputs": [
    {
     "data": {
      "text/plain": [
       "['orange', 'cherry', 'Banana', 'Apple']"
      ]
     },
     "execution_count": 52,
     "metadata": {},
     "output_type": "execute_result"
    }
   ],
   "source": [
    "Y = [\"Apple\", \"cherry\", \"Banana\", \"orange\"]\n",
    "Y.sort()\n",
    "Y.sort(key = str.lower)\n",
    "Y.reverse()\n",
    "Y"
   ]
  },
  {
   "cell_type": "code",
   "execution_count": 53,
   "metadata": {},
   "outputs": [
    {
     "data": {
      "text/plain": [
       "[100, 90, 78, 70, 44, 43, 30, 22, 20, 14, 4]"
      ]
     },
     "execution_count": 53,
     "metadata": {},
     "output_type": "execute_result"
    }
   ],
   "source": [
    "X.reverse() \n",
    "X[::-1]\n",
    "\n",
    "#both use for reverses the order of elements"
   ]
  },
  {
   "cell_type": "code",
   "execution_count": 54,
   "metadata": {},
   "outputs": [
    {
     "name": "stdout",
     "output_type": "stream",
     "text": [
      "[4, 14, 20, 22, 30, 43, 44, 70, 78, 90, 100]\n"
     ]
    }
   ],
   "source": [
    "my_list = X.copy()  # Copy\n",
    "print(my_list)"
   ]
  },
  {
   "cell_type": "code",
   "execution_count": 55,
   "metadata": {},
   "outputs": [
    {
     "name": "stdout",
     "output_type": "stream",
     "text": [
      "['A', 'A', 'A', 'B', 'B', 'C', 'C', 'D', 'E', 'F', 'G', 'G', 'Z', 4, 14, 20, 22, 30, 43, 44, 70, 78, 90, 100]\n",
      "['A', 'A', 'A', 'B', 'B', 'C', 'C', 'D', 'E', 'F', 'G', 'G', 'Z', 'orange', 'cherry', 'Banana', 'Apple']\n"
     ]
    }
   ],
   "source": [
    "list1 = x + X  # joining the lists\n",
    "print(list1)\n",
    "\n",
    "list2 = x + Y\n",
    "print(list2)"
   ]
  },
  {
   "cell_type": "code",
   "execution_count": 56,
   "metadata": {},
   "outputs": [
    {
     "name": "stdout",
     "output_type": "stream",
     "text": [
      "['A', 'A', 'A', 'B', 'B', 'C', 'C', 'D', 'E', 'F', 'G', 'G', 'Z', 4, 14, 20, 22, 30, 43, 44, 70, 78, 90, 100, 'A', 'A', 'A', 'B', 'B', 'C', 'C', 'D', 'E', 'F', 'G', 'G', 'Z', 'orange', 'cherry', 'Banana', 'Apple']\n"
     ]
    }
   ],
   "source": [
    "#joining the list using append\n",
    "for i in list2:\n",
    "    list1.append(i)\n",
    "    \n",
    "print(list1)"
   ]
  },
  {
   "cell_type": "code",
   "execution_count": 57,
   "metadata": {},
   "outputs": [
    {
     "name": "stdout",
     "output_type": "stream",
     "text": [
      "['A', 'A', 'A', 'B', 'B', 'C', 'C', 'D', 'E', 'F', 'G', 'G', 'Z', 4, 14, 20, 22, 30, 43, 44, 70, 78, 90, 100, 'A', 'A', 'A', 'B', 'B', 'C', 'C', 'D', 'E', 'F', 'G', 'G', 'Z', 'orange', 'cherry', 'Banana', 'Apple', 'A', 'A', 'A', 'B', 'B', 'C', 'C', 'D', 'E', 'F', 'G', 'G', 'Z', 'orange', 'cherry', 'Banana', 'Apple']\n"
     ]
    }
   ],
   "source": [
    "# joining the list using extend\n",
    "list1.extend(list2)\n",
    "print(list1)"
   ]
  },
  {
   "cell_type": "markdown",
   "metadata": {},
   "source": [
    "## Tuples"
   ]
  },
  {
   "cell_type": "code",
   "execution_count": 58,
   "metadata": {},
   "outputs": [
    {
     "data": {
      "text/plain": [
       "('A', 'B', 'C')"
      ]
     },
     "execution_count": 58,
     "metadata": {},
     "output_type": "execute_result"
    }
   ],
   "source": [
    "y"
   ]
  },
  {
   "cell_type": "code",
   "execution_count": 59,
   "metadata": {},
   "outputs": [
    {
     "name": "stdout",
     "output_type": "stream",
     "text": [
      "<class 'tuple'>\n",
      "3\n"
     ]
    }
   ],
   "source": [
    "print(type(y))\n",
    "print(len(y))\n"
   ]
  },
  {
   "cell_type": "code",
   "execution_count": 60,
   "metadata": {},
   "outputs": [
    {
     "name": "stdout",
     "output_type": "stream",
     "text": [
      "A\n",
      "B\n",
      "C\n",
      "C\n",
      "('C', 'B', 'A')\n"
     ]
    }
   ],
   "source": [
    "print(y[0])\n",
    "print(y[1])\n",
    "print(y[2])\n",
    "print(y[-1])\n",
    "print(y[::-1])"
   ]
  },
  {
   "cell_type": "code",
   "execution_count": 61,
   "metadata": {},
   "outputs": [
    {
     "name": "stdout",
     "output_type": "stream",
     "text": [
      "('A', 'K', 'C')\n"
     ]
    }
   ],
   "source": [
    "# update tuple\n",
    "# tuple are unchnageable/immutable so convert it to list then add then back to tupple\n",
    "A = list(y)\n",
    "A[1] = \"K\"\n",
    "y = tuple(A)\n",
    "print(y)"
   ]
  },
  {
   "cell_type": "code",
   "execution_count": 62,
   "metadata": {},
   "outputs": [
    {
     "name": "stdout",
     "output_type": "stream",
     "text": [
      "('A', 'K', 'C', 'B')\n"
     ]
    }
   ],
   "source": [
    "# adding a tuple to a tuple\n",
    "B = (\"B\",)\n",
    "y = y + B\n",
    "print(y)"
   ]
  },
  {
   "cell_type": "code",
   "execution_count": 63,
   "metadata": {},
   "outputs": [
    {
     "name": "stdout",
     "output_type": "stream",
     "text": [
      "('A', 'K', 'C')\n"
     ]
    }
   ],
   "source": [
    "# removing the element from tuple\n",
    "C = list(y)\n",
    "C.remove(\"B\")\n",
    "y = tuple(C)\n",
    "print(y)"
   ]
  },
  {
   "cell_type": "code",
   "execution_count": 64,
   "metadata": {},
   "outputs": [],
   "source": [
    "# removing element from tuple using del\n",
    "#del y\n",
    "#print(y)\n",
    "# tuple y is deleted"
   ]
  },
  {
   "cell_type": "code",
   "execution_count": 65,
   "metadata": {},
   "outputs": [
    {
     "name": "stdout",
     "output_type": "stream",
     "text": [
      "A\n",
      "K\n",
      "C\n"
     ]
    }
   ],
   "source": [
    "# unpacking a tuple - when creating a tuple, assign a value to it called packing a tuple\n",
    "\n",
    "y\n",
    "(Apple, Kiwi, Car) = y\n",
    "print(Apple)\n",
    "print(Kiwi)\n",
    "print(Car)"
   ]
  },
  {
   "cell_type": "code",
   "execution_count": 66,
   "metadata": {},
   "outputs": [
    {
     "name": "stdout",
     "output_type": "stream",
     "text": [
      "A\n",
      "B\n",
      "C\n",
      "['D', 'E', 'F', 'G', 'H', 'I', 'J', 'K', 'L']\n"
     ]
    }
   ],
   "source": [
    "D = (\"A\", \"B\", \"C\", \"D\", \"E\", \"F\", \"G\", \"H\", \"I\", \"J\", \"K\", \"L\")\n",
    "(apple, green, red, *yellow) = D\n",
    "print(apple)\n",
    "print(green)\n",
    "print(red)\n",
    "print(yellow)"
   ]
  },
  {
   "cell_type": "code",
   "execution_count": 67,
   "metadata": {},
   "outputs": [
    {
     "name": "stdout",
     "output_type": "stream",
     "text": [
      "A\n",
      "B\n",
      "['C', 'D', 'E', 'F', 'G', 'H', 'I', 'J', 'K']\n",
      "L\n"
     ]
    }
   ],
   "source": [
    "(apple, green, *red, yellow) = D\n",
    "print(apple)\n",
    "print(green)\n",
    "print(red)\n",
    "print(yellow)"
   ]
  },
  {
   "cell_type": "code",
   "execution_count": 68,
   "metadata": {},
   "outputs": [
    {
     "name": "stdout",
     "output_type": "stream",
     "text": [
      "A\n",
      "B\n",
      "C\n",
      "D\n",
      "E\n",
      "F\n",
      "G\n",
      "H\n",
      "I\n",
      "J\n",
      "K\n",
      "L\n"
     ]
    }
   ],
   "source": [
    "for i in D:\n",
    "    print(i)"
   ]
  },
  {
   "cell_type": "code",
   "execution_count": 69,
   "metadata": {},
   "outputs": [
    {
     "name": "stdout",
     "output_type": "stream",
     "text": [
      "0\n",
      "1\n",
      "2\n",
      "3\n",
      "4\n",
      "5\n",
      "6\n",
      "7\n",
      "8\n",
      "9\n",
      "10\n",
      "11\n"
     ]
    }
   ],
   "source": [
    "for i in range(len(D)):\n",
    "    print(i)"
   ]
  },
  {
   "cell_type": "code",
   "execution_count": 70,
   "metadata": {},
   "outputs": [
    {
     "name": "stdout",
     "output_type": "stream",
     "text": [
      "A\n",
      "B\n",
      "C\n",
      "D\n",
      "E\n",
      "F\n",
      "G\n",
      "H\n",
      "I\n",
      "J\n",
      "K\n",
      "L\n"
     ]
    }
   ],
   "source": [
    "I = 0\n",
    "while I < len(D):\n",
    "    print(D[I])\n",
    "    I = I + 1"
   ]
  },
  {
   "cell_type": "code",
   "execution_count": 71,
   "metadata": {},
   "outputs": [
    {
     "name": "stdout",
     "output_type": "stream",
     "text": [
      "A\n",
      "L\n",
      "K\n",
      "J\n",
      "I\n",
      "H\n",
      "G\n",
      "F\n",
      "E\n",
      "D\n",
      "C\n",
      "B\n"
     ]
    }
   ],
   "source": [
    "I = 0\n",
    "while I < len(D):\n",
    "    print(D[-I])\n",
    "    I = I + 1"
   ]
  },
  {
   "cell_type": "code",
   "execution_count": 72,
   "metadata": {},
   "outputs": [
    {
     "name": "stdout",
     "output_type": "stream",
     "text": [
      "('A', 'K', 'C', 'A', 'B', 'C', 'D', 'E', 'F', 'G', 'H', 'I', 'J', 'K', 'L')\n",
      "('A', 'K', 'C', 'A', 'B', 'C', 'D', 'E', 'F', 'G', 'H', 'I', 'J', 'K', 'L', 'A', 'K', 'C', 'A', 'B', 'C', 'D', 'E', 'F', 'G', 'H', 'I', 'J', 'K', 'L')\n"
     ]
    }
   ],
   "source": [
    "tuple = y + D\n",
    "print(tuple)\n",
    "\n",
    "tuple1 = tuple * 2\n",
    "print(tuple1)"
   ]
  },
  {
   "cell_type": "code",
   "execution_count": 73,
   "metadata": {},
   "outputs": [
    {
     "name": "stdout",
     "output_type": "stream",
     "text": [
      "4\n"
     ]
    }
   ],
   "source": [
    "count = tuple1.count(\"A\")\n",
    "print(count)"
   ]
  },
  {
   "cell_type": "code",
   "execution_count": 74,
   "metadata": {},
   "outputs": [
    {
     "name": "stdout",
     "output_type": "stream",
     "text": [
      "12\n"
     ]
    }
   ],
   "source": [
    "inde = tuple1.index(\"J\")\n",
    "print(inde)"
   ]
  },
  {
   "cell_type": "markdown",
   "metadata": {},
   "source": [
    "## Sets"
   ]
  },
  {
   "cell_type": "code",
   "execution_count": 75,
   "metadata": {},
   "outputs": [
    {
     "data": {
      "text/plain": [
       "{'A', 'B', 'C'}"
      ]
     },
     "execution_count": 75,
     "metadata": {},
     "output_type": "execute_result"
    }
   ],
   "source": [
    "b"
   ]
  },
  {
   "cell_type": "code",
   "execution_count": 76,
   "metadata": {},
   "outputs": [
    {
     "data": {
      "text/plain": [
       "set"
      ]
     },
     "execution_count": 76,
     "metadata": {},
     "output_type": "execute_result"
    }
   ],
   "source": [
    "type(b)"
   ]
  },
  {
   "cell_type": "code",
   "execution_count": 77,
   "metadata": {},
   "outputs": [
    {
     "name": "stdout",
     "output_type": "stream",
     "text": [
      "{'A', 'D', 'C', 'B'}\n",
      "4\n"
     ]
    }
   ],
   "source": [
    "# duplicates not allowed\n",
    "b = {\"A\", \"B\", \"C\", \"D\", \"A\"}\n",
    "print(b)\n",
    "print(len(b))"
   ]
  },
  {
   "cell_type": "code",
   "execution_count": 78,
   "metadata": {},
   "outputs": [
    {
     "name": "stdout",
     "output_type": "stream",
     "text": [
      "{0, 'B', 'True', 22, 23, 'A'}\n"
     ]
    },
    {
     "data": {
      "text/plain": [
       "set"
      ]
     },
     "execution_count": 78,
     "metadata": {},
     "output_type": "execute_result"
    }
   ],
   "source": [
    "set1 = {\"A\", 23, \"True\", 22, \"B\", 0}\n",
    "print(set1)\n",
    "type(set1)"
   ]
  },
  {
   "cell_type": "code",
   "execution_count": 79,
   "metadata": {},
   "outputs": [
    {
     "name": "stdout",
     "output_type": "stream",
     "text": [
      "{'I', 'D', 'F', 'B', 'K', 'L', 'H', 'C', 'G', 'J', 'A', 'E'}\n"
     ]
    }
   ],
   "source": [
    "set2 = set((tuple1))\n",
    "print(set2)\n",
    "#duplicates not allowed"
   ]
  },
  {
   "cell_type": "code",
   "execution_count": 80,
   "metadata": {},
   "outputs": [
    {
     "name": "stdout",
     "output_type": "stream",
     "text": [
      "I\n",
      "D\n",
      "F\n",
      "B\n",
      "K\n",
      "L\n",
      "H\n",
      "C\n",
      "G\n",
      "J\n",
      "A\n",
      "E\n"
     ]
    }
   ],
   "source": [
    "for i in set2:\n",
    "    print(i)"
   ]
  },
  {
   "cell_type": "code",
   "execution_count": 81,
   "metadata": {},
   "outputs": [
    {
     "name": "stdout",
     "output_type": "stream",
     "text": [
      "True\n",
      "True\n"
     ]
    }
   ],
   "source": [
    "print(\"F\" in set2)\n",
    "print(\"A\" in set2)"
   ]
  },
  {
   "cell_type": "code",
   "execution_count": 82,
   "metadata": {},
   "outputs": [
    {
     "name": "stdout",
     "output_type": "stream",
     "text": [
      "{'I', 'D', 'F', 'B', 'K', 'L', 'H', 'C', 'G', 'apple', 'J', 'A', 'E'}\n"
     ]
    }
   ],
   "source": [
    "# adding set items\n",
    "\n",
    "set2.add(\"apple\")\n",
    "print(set2)"
   ]
  },
  {
   "cell_type": "code",
   "execution_count": 83,
   "metadata": {},
   "outputs": [
    {
     "name": "stdout",
     "output_type": "stream",
     "text": [
      "{'D', 'B', 'L', 'C', 'J', 'A', 'E', 'I', 'F', 'K', 'H', 'G', 'apple'}\n"
     ]
    }
   ],
   "source": [
    "# adding two sets b and set2 using update\n",
    "b.update(set2)\n",
    "print(b)"
   ]
  },
  {
   "cell_type": "code",
   "execution_count": 84,
   "metadata": {},
   "outputs": [
    {
     "name": "stdout",
     "output_type": "stream",
     "text": [
      "{'D', 'B', 'L', 'J', 'A', 'E', 'I', 'F', 'K', 'H', 'G', 'apple'}\n"
     ]
    }
   ],
   "source": [
    "# remove\n",
    "b.remove(\"C\")\n",
    "print(b)"
   ]
  },
  {
   "cell_type": "code",
   "execution_count": 85,
   "metadata": {},
   "outputs": [
    {
     "name": "stdout",
     "output_type": "stream",
     "text": [
      "{'D', 'B', 'L', 'J', 'A', 'E', 'I', 'F', 'K', 'H', 'apple'}\n"
     ]
    }
   ],
   "source": [
    "# remove using discard\n",
    "b.discard(\"G\")\n",
    "print(b)"
   ]
  },
  {
   "cell_type": "code",
   "execution_count": 86,
   "metadata": {},
   "outputs": [],
   "source": [
    "# reomove using pop\n",
    "#re = b.pop(\"I\")\n",
    "#print(re)\n",
    "#print(b)"
   ]
  },
  {
   "cell_type": "code",
   "execution_count": 87,
   "metadata": {},
   "outputs": [
    {
     "name": "stdout",
     "output_type": "stream",
     "text": [
      "set()\n"
     ]
    }
   ],
   "source": [
    "# clear - emppties the set\n",
    "b.clear()\n",
    "print(b)"
   ]
  },
  {
   "cell_type": "code",
   "execution_count": 88,
   "metadata": {},
   "outputs": [
    {
     "ename": "NameError",
     "evalue": "name 'set1' is not defined",
     "output_type": "error",
     "traceback": [
      "\u001b[1;31m---------------------------------------------------------------------------\u001b[0m",
      "\u001b[1;31mNameError\u001b[0m                                 Traceback (most recent call last)",
      "\u001b[1;32m<ipython-input-88-e40e9a1597fe>\u001b[0m in \u001b[0;36m<module>\u001b[1;34m\u001b[0m\n\u001b[0;32m      1\u001b[0m \u001b[1;31m# del - delete the set completely\u001b[0m\u001b[1;33m\u001b[0m\u001b[1;33m\u001b[0m\u001b[1;33m\u001b[0m\u001b[0m\n\u001b[0;32m      2\u001b[0m \u001b[1;32mdel\u001b[0m \u001b[0mset1\u001b[0m\u001b[1;33m\u001b[0m\u001b[1;33m\u001b[0m\u001b[0m\n\u001b[1;32m----> 3\u001b[1;33m \u001b[0mprint\u001b[0m\u001b[1;33m(\u001b[0m\u001b[0mset1\u001b[0m\u001b[1;33m)\u001b[0m\u001b[1;33m\u001b[0m\u001b[1;33m\u001b[0m\u001b[0m\n\u001b[0m",
      "\u001b[1;31mNameError\u001b[0m: name 'set1' is not defined"
     ]
    }
   ],
   "source": [
    "# del - delete the set completely\n",
    "del set1\n",
    "print(set1)"
   ]
  },
  {
   "cell_type": "code",
   "execution_count": 89,
   "metadata": {},
   "outputs": [
    {
     "name": "stdout",
     "output_type": "stream",
     "text": [
      "I\n",
      "D\n",
      "F\n",
      "B\n",
      "K\n",
      "L\n",
      "H\n",
      "C\n",
      "G\n",
      "apple\n",
      "J\n",
      "A\n",
      "E\n"
     ]
    }
   ],
   "source": [
    "set2\n",
    "\n",
    "for i in set2:\n",
    "    print(i)"
   ]
  },
  {
   "cell_type": "code",
   "execution_count": 90,
   "metadata": {},
   "outputs": [
    {
     "name": "stdout",
     "output_type": "stream",
     "text": [
      "{'I', 'D', 'F', 'B', 'K', 'L', 'H', 'a', 'C', 'G', 'c', 'b', 'apple', 'J', 'A', 'E'}\n"
     ]
    }
   ],
   "source": [
    "set3 = {\"a\", \"b\", \"c\"}\n",
    "\n",
    "# join the sets\n",
    "\n",
    "set4 = set2.union(set3)\n",
    "print(set4)"
   ]
  },
  {
   "cell_type": "code",
   "execution_count": 91,
   "metadata": {},
   "outputs": [
    {
     "name": "stdout",
     "output_type": "stream",
     "text": [
      "{'I', 'D', 'F', 'B', 'K', 'L', 'H', 'a', 'C', 'G', 'c', 'b', 'apple', 'J', 'A', 'E'}\n"
     ]
    }
   ],
   "source": [
    "# update - to insert the sets\n",
    "\n",
    "set2.update(set3)\n",
    "print(set2)"
   ]
  },
  {
   "cell_type": "code",
   "execution_count": 92,
   "metadata": {},
   "outputs": [],
   "source": [
    "# both union and update exclude any duplicate items"
   ]
  },
  {
   "cell_type": "code",
   "execution_count": 93,
   "metadata": {},
   "outputs": [
    {
     "name": "stdout",
     "output_type": "stream",
     "text": [
      "{'b', 'a', 'c'}\n"
     ]
    }
   ],
   "source": [
    "# keeping duplicates\n",
    "\n",
    "set2.intersection_update(set3)\n",
    "print(set2)"
   ]
  },
  {
   "cell_type": "code",
   "execution_count": 94,
   "metadata": {},
   "outputs": [
    {
     "name": "stdout",
     "output_type": "stream",
     "text": [
      "{'c', 'a', 'b'}\n"
     ]
    }
   ],
   "source": [
    "set4.intersection_update(set2)\n",
    "print(set4)"
   ]
  },
  {
   "cell_type": "code",
   "execution_count": 95,
   "metadata": {},
   "outputs": [
    {
     "name": "stdout",
     "output_type": "stream",
     "text": [
      "{'c', 'a', 'b'}\n"
     ]
    }
   ],
   "source": [
    "set4.intersection(set2)\n",
    "print(set4)"
   ]
  },
  {
   "cell_type": "code",
   "execution_count": 96,
   "metadata": {},
   "outputs": [
    {
     "name": "stdout",
     "output_type": "stream",
     "text": [
      "set()\n"
     ]
    }
   ],
   "source": [
    "# keep all not duplicates\n",
    "\n",
    "set4.symmetric_difference_update(set3)\n",
    "print(set4)"
   ]
  },
  {
   "cell_type": "markdown",
   "metadata": {},
   "source": [
    "## Dictionary"
   ]
  },
  {
   "cell_type": "code",
   "execution_count": 97,
   "metadata": {},
   "outputs": [
    {
     "data": {
      "text/plain": [
       "{'name': 'shiv', 'age': 25}"
      ]
     },
     "execution_count": 97,
     "metadata": {},
     "output_type": "execute_result"
    }
   ],
   "source": [
    "a"
   ]
  },
  {
   "cell_type": "code",
   "execution_count": 98,
   "metadata": {},
   "outputs": [
    {
     "name": "stdout",
     "output_type": "stream",
     "text": [
      "<class 'dict'>\n",
      "shiv\n",
      "25\n"
     ]
    }
   ],
   "source": [
    "print(type(a))\n",
    "print(a[\"name\"])\n",
    "print(a[\"age\"])"
   ]
  },
  {
   "cell_type": "code",
   "execution_count": 99,
   "metadata": {},
   "outputs": [
    {
     "name": "stdout",
     "output_type": "stream",
     "text": [
      "{'name': ['shiv', 'jay', 'rao', 'jai'], 'age': [24, 45, 23, 45], 'car': ['H', 'H', 'M', 'M']}\n"
     ]
    }
   ],
   "source": [
    "a = {\"name\":[\"shiv\", \"jay\", \"rao\", \"jai\"],\n",
    "    \"age\":[24, 45, 23, 45],\n",
    "    \"car\": [\"Honda\", \"Honda\", \"maruti\", \"Bmw\"],\n",
    "    \"car\": [\"H\", \"H\", \"M\", \"M\"]}\n",
    "\n",
    "print(a)"
   ]
  },
  {
   "cell_type": "code",
   "execution_count": 100,
   "metadata": {},
   "outputs": [],
   "source": [
    "# duplicates not allowed"
   ]
  },
  {
   "cell_type": "code",
   "execution_count": 101,
   "metadata": {},
   "outputs": [
    {
     "name": "stdout",
     "output_type": "stream",
     "text": [
      "['shiv', 'jay', 'rao', 'jai']\n",
      "[24, 45, 23, 45]\n",
      "['H', 'H', 'M', 'M']\n"
     ]
    }
   ],
   "source": [
    "print(a[\"name\"])\n",
    "print(a[\"age\"])\n",
    "print(a[\"car\"])"
   ]
  },
  {
   "cell_type": "code",
   "execution_count": 102,
   "metadata": {},
   "outputs": [
    {
     "data": {
      "text/plain": [
       "['shiv', 'jay', 'rao', 'jai']"
      ]
     },
     "execution_count": 102,
     "metadata": {},
     "output_type": "execute_result"
    }
   ],
   "source": [
    "R = a.get(\"name\")\n",
    "R"
   ]
  },
  {
   "cell_type": "code",
   "execution_count": 103,
   "metadata": {},
   "outputs": [
    {
     "data": {
      "text/plain": [
       "dict_keys(['name', 'age', 'car'])"
      ]
     },
     "execution_count": 103,
     "metadata": {},
     "output_type": "execute_result"
    }
   ],
   "source": [
    "U = a.keys()\n",
    "U"
   ]
  },
  {
   "cell_type": "code",
   "execution_count": 104,
   "metadata": {},
   "outputs": [
    {
     "name": "stdout",
     "output_type": "stream",
     "text": [
      "{'name': ['shiv', 'jay', 'rao', 'jai'], 'age': [24, 45, 23, 45], 'car': ['H', 'H', 'M', 'M'], 'height': ['20', '30', '40', '50']}\n"
     ]
    }
   ],
   "source": [
    "# add new item\n",
    "\n",
    "a[\"height\"] = [\"20\", \"30\", \"40\", \"50\"]\n",
    "print(a)"
   ]
  },
  {
   "cell_type": "code",
   "execution_count": 105,
   "metadata": {},
   "outputs": [
    {
     "data": {
      "text/plain": [
       "dict_values([['shiv', 'jay', 'rao', 'jai'], [24, 45, 23, 45], ['H', 'H', 'M', 'M'], ['20', '30', '40', '50']])"
      ]
     },
     "execution_count": 105,
     "metadata": {},
     "output_type": "execute_result"
    }
   ],
   "source": [
    "T = a.values()\n",
    "T"
   ]
  },
  {
   "cell_type": "code",
   "execution_count": 106,
   "metadata": {},
   "outputs": [
    {
     "data": {
      "text/plain": [
       "dict_items([('name', ['shiv', 'jay', 'rao', 'jai']), ('age', [24, 45, 23, 45]), ('car', ['H', 'H', 'M', 'M']), ('height', ['20', '30', '40', '50'])])"
      ]
     },
     "execution_count": 106,
     "metadata": {},
     "output_type": "execute_result"
    }
   ],
   "source": [
    "# items - return each item in dict as tuple in a list\n",
    "\n",
    "Get = a.items()\n",
    "Get"
   ]
  },
  {
   "cell_type": "code",
   "execution_count": 107,
   "metadata": {},
   "outputs": [
    {
     "data": {
      "text/plain": [
       "dict_items"
      ]
     },
     "execution_count": 107,
     "metadata": {},
     "output_type": "execute_result"
    }
   ],
   "source": [
    "type(Get)"
   ]
  },
  {
   "cell_type": "code",
   "execution_count": 108,
   "metadata": {},
   "outputs": [
    {
     "name": "stdout",
     "output_type": "stream",
     "text": [
      "{'name': ['shiv', 'jay', 'rao', 'jai'], 'age': ['42', '54', '76', '65'], 'car': ['H', 'H', 'M', 'M'], 'height': ['20', '30', '40', '50']}\n"
     ]
    }
   ],
   "source": [
    "a[\"age\"] = [\"42\", \"54\", \"76\", \"65\"]\n",
    "print(a)"
   ]
  },
  {
   "cell_type": "code",
   "execution_count": 109,
   "metadata": {},
   "outputs": [
    {
     "name": "stdout",
     "output_type": "stream",
     "text": [
      "{'name': ['shiv', 'jay', 'rao', 'jai'], 'age': [24, 45, 23, 45], 'car': ['H', 'H', 'M', 'M'], 'height': ['20', '30', '40', '50']}\n"
     ]
    }
   ],
   "source": [
    "# update - update the values\n",
    "\n",
    "a[\"age\"] = [24, 45, 23, 45]\n",
    "print(a)"
   ]
  },
  {
   "cell_type": "code",
   "execution_count": 110,
   "metadata": {},
   "outputs": [
    {
     "name": "stdout",
     "output_type": "stream",
     "text": [
      "{'name': ['shiv', 'jay', 'rao', 'jai'], 'age': [24, 45, 23, 45], 'car': ['H', 'H', 'M', 'M']}\n"
     ]
    }
   ],
   "source": [
    "# remove\n",
    "# pop - remove the specified key name\n",
    "a.pop(\"height\")\n",
    "print(a)"
   ]
  },
  {
   "cell_type": "code",
   "execution_count": 111,
   "metadata": {},
   "outputs": [
    {
     "name": "stdout",
     "output_type": "stream",
     "text": [
      "{'name': ['shiv', 'jay', 'rao', 'jai'], 'age': [24, 45, 23, 45]}\n"
     ]
    }
   ],
   "source": [
    "# popitem - remove last inserted item\n",
    "a.popitem()\n",
    "print(a)"
   ]
  },
  {
   "cell_type": "code",
   "execution_count": 112,
   "metadata": {},
   "outputs": [
    {
     "name": "stdout",
     "output_type": "stream",
     "text": [
      "{'name': ['shiv', 'jay', 'rao', 'jai']}\n"
     ]
    }
   ],
   "source": [
    "# del - remove the item with specified key name\n",
    "del a[\"age\"]\n",
    "print(a)"
   ]
  },
  {
   "cell_type": "code",
   "execution_count": 113,
   "metadata": {},
   "outputs": [],
   "source": [
    "#clear - empty the dictionary\n",
    "#a.clear()\n",
    "#print(a)"
   ]
  },
  {
   "cell_type": "code",
   "execution_count": 114,
   "metadata": {},
   "outputs": [
    {
     "name": "stdout",
     "output_type": "stream",
     "text": [
      "{'name': ['shiv', 'jay', 'rao', 'jai'], 'age': [24, 45, 23, 45], 'car': ['H', 'H', 'M', 'M']}\n"
     ]
    }
   ],
   "source": [
    "a = {\"name\":[\"shiv\", \"jay\", \"rao\", \"jai\"],\n",
    "    \"age\":[24, 45, 23, 45],\n",
    "    \"car\": [\"Honda\", \"Honda\", \"maruti\", \"Bmw\"],\n",
    "    \"car\": [\"H\", \"H\", \"M\", \"M\"]}\n",
    "\n",
    "print(a)"
   ]
  },
  {
   "cell_type": "code",
   "execution_count": 115,
   "metadata": {},
   "outputs": [
    {
     "name": "stdout",
     "output_type": "stream",
     "text": [
      "name\n",
      "age\n",
      "car\n"
     ]
    }
   ],
   "source": [
    "#for key\n",
    "for i in a:\n",
    "    print(i)"
   ]
  },
  {
   "cell_type": "code",
   "execution_count": 116,
   "metadata": {},
   "outputs": [
    {
     "name": "stdout",
     "output_type": "stream",
     "text": [
      "['shiv', 'jay', 'rao', 'jai']\n",
      "[24, 45, 23, 45]\n",
      "['H', 'H', 'M', 'M']\n"
     ]
    }
   ],
   "source": [
    "#for values\n",
    "for i in a:\n",
    "    print(a[i])"
   ]
  },
  {
   "cell_type": "code",
   "execution_count": 117,
   "metadata": {},
   "outputs": [
    {
     "name": "stdout",
     "output_type": "stream",
     "text": [
      "['shiv', 'jay', 'rao', 'jai']\n",
      "[24, 45, 23, 45]\n",
      "['H', 'H', 'M', 'M']\n"
     ]
    }
   ],
   "source": [
    "for i in a.values():\n",
    "    print(i)"
   ]
  },
  {
   "cell_type": "code",
   "execution_count": 118,
   "metadata": {},
   "outputs": [
    {
     "name": "stdout",
     "output_type": "stream",
     "text": [
      "name\n",
      "age\n",
      "car\n"
     ]
    }
   ],
   "source": [
    "for i in a.keys():\n",
    "    print(i)"
   ]
  },
  {
   "cell_type": "code",
   "execution_count": 119,
   "metadata": {},
   "outputs": [
    {
     "name": "stdout",
     "output_type": "stream",
     "text": [
      "name ['shiv', 'jay', 'rao', 'jai']\n",
      "age [24, 45, 23, 45]\n",
      "car ['H', 'H', 'M', 'M']\n"
     ]
    }
   ],
   "source": [
    "for i,j in a.items():\n",
    "    print(i,j)"
   ]
  },
  {
   "cell_type": "code",
   "execution_count": 120,
   "metadata": {},
   "outputs": [
    {
     "name": "stdout",
     "output_type": "stream",
     "text": [
      "{'name': ['shiv', 'jay', 'rao', 'jai'], 'age': [24, 45, 23, 45], 'car': ['H', 'H', 'M', 'M']}\n"
     ]
    }
   ],
   "source": [
    "# copy\n",
    "newdict = a.copy()\n",
    "print(newdict)"
   ]
  },
  {
   "cell_type": "code",
   "execution_count": 122,
   "metadata": {},
   "outputs": [
    {
     "name": "stdout",
     "output_type": "stream",
     "text": [
      "{'name': ['shiv', 'jay', 'rao', 'jai'], 'age': [24, 45, 23, 45], 'car': ['H', 'H', 'M', 'M']}\n"
     ]
    }
   ],
   "source": [
    "# copy\n",
    "newdict1 = dict(a)\n",
    "print(newdict1)"
   ]
  },
  {
   "cell_type": "code",
   "execution_count": null,
   "metadata": {},
   "outputs": [],
   "source": []
  }
 ],
 "metadata": {
  "kernelspec": {
   "display_name": "Python 3",
   "language": "python",
   "name": "python3"
  },
  "language_info": {
   "codemirror_mode": {
    "name": "ipython",
    "version": 3
   },
   "file_extension": ".py",
   "mimetype": "text/x-python",
   "name": "python",
   "nbconvert_exporter": "python",
   "pygments_lexer": "ipython3",
   "version": "3.7.9"
  }
 },
 "nbformat": 4,
 "nbformat_minor": 5
}
