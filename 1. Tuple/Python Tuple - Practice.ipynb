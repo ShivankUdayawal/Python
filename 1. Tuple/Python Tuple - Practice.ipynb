{
 "cells": [
  {
   "cell_type": "markdown",
   "metadata": {},
   "source": [
    "### Tuple Exercie\n",
    "\n",
    "* https://pynative.com/python-tuple-exercise-with-solutions/\n",
    "\n",
    "* https://www.geeksforgeeks.org/python-tuple-exercise/"
   ]
  },
  {
   "cell_type": "markdown",
   "metadata": {},
   "source": [
    "#### 1. Reverse the tuple"
   ]
  },
  {
   "cell_type": "code",
   "execution_count": 1,
   "metadata": {},
   "outputs": [
    {
     "name": "stdout",
     "output_type": "stream",
     "text": [
      "(50, 40, 30, 20, 10)\n"
     ]
    }
   ],
   "source": [
    "tuple1 = (10, 20, 30, 40, 50)\n",
    "\n",
    "print(tuple1[::-1])"
   ]
  },
  {
   "cell_type": "markdown",
   "metadata": {},
   "source": [
    "#### 2. Access value 20 from the tuple"
   ]
  },
  {
   "cell_type": "code",
   "execution_count": 2,
   "metadata": {},
   "outputs": [
    {
     "data": {
      "text/plain": [
       "20"
      ]
     },
     "execution_count": 2,
     "metadata": {},
     "output_type": "execute_result"
    }
   ],
   "source": [
    "tuple1 = (\"Orange\", [10, 20, 30], (5, 15, 25))\n",
    "\n",
    "tuple1[1][1]"
   ]
  },
  {
   "cell_type": "markdown",
   "metadata": {},
   "source": [
    "#### 3. Create a tuple with single item 50"
   ]
  },
  {
   "cell_type": "code",
   "execution_count": 3,
   "metadata": {},
   "outputs": [
    {
     "name": "stdout",
     "output_type": "stream",
     "text": [
      "(50,)\n",
      "<class 'tuple'>\n"
     ]
    }
   ],
   "source": [
    "tuple1 = (50,)\n",
    "print(tuple1)\n",
    "print(type(tuple1))"
   ]
  },
  {
   "cell_type": "markdown",
   "metadata": {},
   "source": [
    "#### 4. Unpack the tuple into 4 variables"
   ]
  },
  {
   "cell_type": "code",
   "execution_count": 4,
   "metadata": {},
   "outputs": [
    {
     "name": "stdout",
     "output_type": "stream",
     "text": [
      "10\n",
      "20\n",
      "30\n",
      "40\n"
     ]
    }
   ],
   "source": [
    "tuple1 = (10, 20, 30, 40)\n",
    "\n",
    "a, b, c, d = tuple1\n",
    "print(a)\n",
    "print(b)\n",
    "print(c)\n",
    "print(d)"
   ]
  },
  {
   "cell_type": "markdown",
   "metadata": {},
   "source": [
    "#### 5. Swap two tuples in Python"
   ]
  },
  {
   "cell_type": "code",
   "execution_count": 5,
   "metadata": {},
   "outputs": [
    {
     "name": "stdout",
     "output_type": "stream",
     "text": [
      "(99, 88)\n",
      "(11, 22)\n"
     ]
    }
   ],
   "source": [
    "tuple1 = (11, 22)\n",
    "tuple2 = (99, 88)\n",
    "\n",
    "tuple1, tuple2 = tuple2, tuple1\n",
    "print(tuple1)\n",
    "print(tuple2)"
   ]
  },
  {
   "cell_type": "markdown",
   "metadata": {},
   "source": [
    "#### 6. Copy specific elements from one tuple to a new tuple"
   ]
  },
  {
   "cell_type": "code",
   "execution_count": 6,
   "metadata": {},
   "outputs": [
    {
     "name": "stdout",
     "output_type": "stream",
     "text": [
      "(44, 55)\n"
     ]
    }
   ],
   "source": [
    "tuple1 = (11, 22, 33, 44, 55, 66)\n",
    "\n",
    "tuple2 = tuple1[3:5]\n",
    "print(tuple2)"
   ]
  },
  {
   "cell_type": "markdown",
   "metadata": {},
   "source": [
    "#### 7. Modify the tuple"
   ]
  },
  {
   "cell_type": "code",
   "execution_count": 7,
   "metadata": {},
   "outputs": [
    {
     "name": "stdout",
     "output_type": "stream",
     "text": [
      "(11, [222, 33], 44, 55)\n"
     ]
    }
   ],
   "source": [
    "tuple1 = (11, [22, 33], 44, 55)\n",
    "\n",
    "tuple1[1][0] = 222\n",
    "print(tuple1)"
   ]
  },
  {
   "cell_type": "markdown",
   "metadata": {},
   "source": [
    "#### 8. Sort a tuple of tuples by 2nd item"
   ]
  },
  {
   "cell_type": "code",
   "execution_count": 8,
   "metadata": {},
   "outputs": [
    {
     "name": "stdout",
     "output_type": "stream",
     "text": [
      "(('c', 11), ('a', 23), ('d', 29), ('b', 37))\n"
     ]
    }
   ],
   "source": [
    "tuple1 = (('a', 23),('b', 37),('c', 11), ('d',29))\n",
    "\n",
    "tuple1 = tuple(sorted(list(tuple1), key = lambda i : i[1]))\n",
    "print(tuple1)"
   ]
  },
  {
   "cell_type": "code",
   "execution_count": 9,
   "metadata": {},
   "outputs": [
    {
     "name": "stdout",
     "output_type": "stream",
     "text": [
      "(('c', 11), ('a', 23), ('d', 29), ('b', 37))\n"
     ]
    }
   ],
   "source": [
    "tuple1 = tuple(sorted(list(tuple1), key = lambda i : i[1]))\n",
    "print(tuple1)"
   ]
  },
  {
   "cell_type": "markdown",
   "metadata": {},
   "source": [
    "#### 9. Counts the number of occurrences of item 50 from a tuple"
   ]
  },
  {
   "cell_type": "code",
   "execution_count": 10,
   "metadata": {},
   "outputs": [
    {
     "name": "stdout",
     "output_type": "stream",
     "text": [
      "2\n"
     ]
    }
   ],
   "source": [
    "tuple1 = (50, 10, 60, 70, 50)\n",
    "\n",
    "count = 0\n",
    "for i in tuple1:\n",
    "    if i == 50:\n",
    "        count = count + 1\n",
    "        \n",
    "print(count)"
   ]
  },
  {
   "cell_type": "code",
   "execution_count": 11,
   "metadata": {},
   "outputs": [
    {
     "name": "stdout",
     "output_type": "stream",
     "text": [
      "2\n"
     ]
    }
   ],
   "source": [
    "print(tuple1.count(50))"
   ]
  },
  {
   "cell_type": "markdown",
   "metadata": {},
   "source": [
    "#### 10. Check if all items in the tuple are the same"
   ]
  },
  {
   "cell_type": "code",
   "execution_count": 12,
   "metadata": {},
   "outputs": [
    {
     "name": "stdout",
     "output_type": "stream",
     "text": [
      "True\n"
     ]
    }
   ],
   "source": [
    "tuple1 = (45, 45, 45, 45)\n",
    "\n",
    "def chck(t):\n",
    "    return all(i == t[0] for i in t)\n",
    "\n",
    "print(chck(tuple1))"
   ]
  },
  {
   "cell_type": "code",
   "execution_count": 13,
   "metadata": {},
   "outputs": [
    {
     "name": "stdout",
     "output_type": "stream",
     "text": [
      "True\n"
     ]
    }
   ],
   "source": [
    "def chck(t):\n",
    "    return all(i == t[0] for i in t)\n",
    "\n",
    "print(chck(tuple1))"
   ]
  },
  {
   "cell_type": "raw",
   "metadata": {},
   "source": [
    "for i in t:\n",
    "    return all(i == t[0])"
   ]
  },
  {
   "cell_type": "markdown",
   "metadata": {},
   "source": [
    "#### 11. size of a Tuple in Python"
   ]
  },
  {
   "cell_type": "code",
   "execution_count": 14,
   "metadata": {},
   "outputs": [
    {
     "name": "stdout",
     "output_type": "stream",
     "text": [
      "Size of tuple 1 96bytes\n",
      "Size of tuple 2 96bytes\n",
      "Size of tuple 3 80bytes\n"
     ]
    }
   ],
   "source": [
    "Tuple1 = (\"A\", 1, \"B\", 2, \"C\", 3)\n",
    "Tuple2 = (\"Geek1\", \"Raju\", \"Geek2\", \"Nikhil\", \"Geek3\", \"Deepanshu\")\n",
    "Tuple3 = ((1, \"Lion\"), ( 2, \"Tiger\"), (3, \"Fox\"), (4, \"Wolf\"))\n",
    "\n",
    "\n",
    "import sys\n",
    "\n",
    "print(\"Size of tuple 1\", str(sys.getsizeof(Tuple1)) + \"bytes\")\n",
    "print(\"Size of tuple 2\", str(sys.getsizeof(Tuple2)) + \"bytes\")\n",
    "print(\"Size of tuple 3\", str(sys.getsizeof(Tuple3)) + \"bytes\")"
   ]
  },
  {
   "cell_type": "code",
   "execution_count": 15,
   "metadata": {},
   "outputs": [
    {
     "name": "stdout",
     "output_type": "stream",
     "text": [
      "96bytes\n"
     ]
    }
   ],
   "source": [
    "print(str(sys.getsizeof(Tuple1)) + \"bytes\")"
   ]
  },
  {
   "cell_type": "code",
   "execution_count": 16,
   "metadata": {},
   "outputs": [
    {
     "name": "stdout",
     "output_type": "stream",
     "text": [
      "72bytes\n"
     ]
    }
   ],
   "source": [
    "print(str(Tuple1.__sizeof__()) + \"bytes\")"
   ]
  },
  {
   "cell_type": "markdown",
   "metadata": {},
   "source": [
    "* an inbuilt __sizeof__() method to determine the space allocation of an object without any additional garbage value."
   ]
  },
  {
   "cell_type": "markdown",
   "metadata": {},
   "source": [
    "#### 12. Maximum and Minimum K elements in Tuple"
   ]
  },
  {
   "cell_type": "code",
   "execution_count": 17,
   "metadata": {},
   "outputs": [
    {
     "name": "stdout",
     "output_type": "stream",
     "text": [
      "3\n",
      "20\n"
     ]
    }
   ],
   "source": [
    "t1 = (5, 20, 3, 7, 6, 8)\n",
    "\n",
    "t2 = list(sorted(t1))\n",
    "t2 = tuple(t2)\n",
    "print(t2[0])\n",
    "print(t2[-1])"
   ]
  },
  {
   "cell_type": "markdown",
   "metadata": {},
   "source": [
    "#### 13. create a list of tuples from given list having number and its cube in each tuple"
   ]
  },
  {
   "cell_type": "code",
   "execution_count": 18,
   "metadata": {},
   "outputs": [
    {
     "name": "stdout",
     "output_type": "stream",
     "text": [
      "[1, 8, 27, 64, 125]\n"
     ]
    }
   ],
   "source": [
    "l1 = [1, 2, 3, 4, 5]\n",
    "\n",
    "l2 = []\n",
    "for i in l1:\n",
    "    i = i * i * i\n",
    "    l2.append(i)\n",
    "    \n",
    "print(l2)"
   ]
  },
  {
   "cell_type": "code",
   "execution_count": 19,
   "metadata": {},
   "outputs": [
    {
     "name": "stdout",
     "output_type": "stream",
     "text": [
      "[(1, 1), (2, 8), (3, 27), (4, 64), (5, 125)]\n"
     ]
    }
   ],
   "source": [
    "l2 = [(i, pow(i, 3)) for i in l1]\n",
    "print(l2)"
   ]
  },
  {
   "cell_type": "code",
   "execution_count": 20,
   "metadata": {},
   "outputs": [
    {
     "name": "stdout",
     "output_type": "stream",
     "text": [
      "[(1, 1), (2, 8), (3, 27), (4, 64), (5, 125)]\n"
     ]
    }
   ],
   "source": [
    "l2 = [(i, pow(i, 3)) for i in l1]\n",
    "print(l2)"
   ]
  },
  {
   "cell_type": "markdown",
   "metadata": {},
   "source": [
    "#### 14. Adding Tuple to List and vice – versa"
   ]
  },
  {
   "cell_type": "code",
   "execution_count": 21,
   "metadata": {},
   "outputs": [
    {
     "name": "stdout",
     "output_type": "stream",
     "text": [
      "[1, 2, 3, 4, 5]\n"
     ]
    }
   ],
   "source": [
    "l1 = [1, 2, 3]\n",
    "\n",
    "t1 = (4, 5)\n",
    "\n",
    "l1 += t1\n",
    "print(l1)"
   ]
  },
  {
   "cell_type": "code",
   "execution_count": 22,
   "metadata": {},
   "outputs": [
    {
     "name": "stdout",
     "output_type": "stream",
     "text": [
      "(4, 5, 1, 2, 3, 4, 5)\n"
     ]
    }
   ],
   "source": [
    "t2 = tuple(list(t1) + l1)\n",
    "print(t2)"
   ]
  },
  {
   "cell_type": "code",
   "execution_count": 23,
   "metadata": {},
   "outputs": [
    {
     "name": "stdout",
     "output_type": "stream",
     "text": [
      "(4, 5, 1, 2, 3, 4, 5)\n"
     ]
    }
   ],
   "source": [
    "t2 = tuple(list(t1) + l1)\n",
    "print(t2)"
   ]
  },
  {
   "cell_type": "markdown",
   "metadata": {},
   "source": [
    "#### 15. Sum of tuple elements"
   ]
  },
  {
   "cell_type": "code",
   "execution_count": 24,
   "metadata": {},
   "outputs": [
    {
     "name": "stdout",
     "output_type": "stream",
     "text": [
      "42\n"
     ]
    }
   ],
   "source": [
    "t1 = (7, 8, 9, 1, 10, 7) \n",
    "\n",
    "s = sum(list(t1))\n",
    "print(s)"
   ]
  },
  {
   "cell_type": "code",
   "execution_count": 25,
   "metadata": {},
   "outputs": [
    {
     "name": "stdout",
     "output_type": "stream",
     "text": [
      "42\n"
     ]
    }
   ],
   "source": [
    "t1 = ([7, 8], [9, 1], [10, 7]) \n",
    "\n",
    "res = sum(list(map(sum, list(t1))))\n",
    "print(res)"
   ]
  },
  {
   "cell_type": "code",
   "execution_count": 26,
   "metadata": {},
   "outputs": [
    {
     "name": "stdout",
     "output_type": "stream",
     "text": [
      "42\n"
     ]
    }
   ],
   "source": [
    "res = sum(list(map(sum, list(t1))))\n",
    "print(res)"
   ]
  },
  {
   "cell_type": "markdown",
   "metadata": {},
   "source": [
    "#### 16. Modulo of tuple elements"
   ]
  },
  {
   "cell_type": "code",
   "execution_count": 27,
   "metadata": {},
   "outputs": [
    {
     "name": "stdout",
     "output_type": "stream",
     "text": [
      "[0, 4, 5, 1]\n"
     ]
    }
   ],
   "source": [
    "t1 = (10, 4, 5, 6)\n",
    "t2 = (5, 6, 7, 5)\n",
    "\n",
    "res = [i % j for i, j in zip(t1, t2)]\n",
    "print(res)"
   ]
  },
  {
   "cell_type": "markdown",
   "metadata": {},
   "source": [
    "#### 17. Row-wise element Addition in Tuple Matrix"
   ]
  },
  {
   "cell_type": "code",
   "execution_count": 28,
   "metadata": {},
   "outputs": [
    {
     "name": "stdout",
     "output_type": "stream",
     "text": [
      "[[(('Gfg', 3), 6), (('is', 3), 6)], [(('best', 1), 7)], [(('for', 5), 8), (('geeks', 1), 8)]]\n"
     ]
    }
   ],
   "source": [
    "t1 = [[('Gfg', 3), ('is', 3)], [('best', 1)], [('for', 5), ('geeks', 1)]]\n",
    "\n",
    "j = [6, 7, 8]\n",
    "\n",
    "res = [[(idx, val) for idx in key] for key,  val in zip(t1, j)]\n",
    "print(res)"
   ]
  },
  {
   "cell_type": "code",
   "execution_count": 29,
   "metadata": {},
   "outputs": [
    {
     "name": "stdout",
     "output_type": "stream",
     "text": [
      "[[(('Gfg', 3), 6), (('is', 3), 6)], [(('best', 1), 7)], [(('for', 5), 8), (('geeks', 1), 8)]]\n"
     ]
    }
   ],
   "source": [
    "res = [[(a, b) for a in i] for i, b in zip(t1, j)]\n",
    "print(res)"
   ]
  },
  {
   "cell_type": "code",
   "execution_count": 30,
   "metadata": {},
   "outputs": [
    {
     "name": "stdout",
     "output_type": "stream",
     "text": [
      "(('Gfg', 3), 6)\n",
      "(('is', 3), 6)\n",
      "(('best', 1), 7)\n",
      "(('for', 5), 8)\n",
      "(('geeks', 1), 8)\n"
     ]
    }
   ],
   "source": [
    "for a, b in zip(t1, j):\n",
    "    for c in a:\n",
    "        print((c, b))\n",
    "        "
   ]
  },
  {
   "cell_type": "code",
   "execution_count": 31,
   "metadata": {},
   "outputs": [
    {
     "name": "stdout",
     "output_type": "stream",
     "text": [
      "(('Gfg', 3), 6)\n",
      "(('is', 3), 6)\n",
      "(('best', 1), 7)\n",
      "(('for', 5), 8)\n",
      "(('geeks', 1), 8)\n"
     ]
    }
   ],
   "source": [
    "for a, b in zip(t1,j):\n",
    "    for c in a:\n",
    "        print((c, b))"
   ]
  },
  {
   "cell_type": "markdown",
   "metadata": {},
   "source": [
    "#### 18. Update each element in tuple list"
   ]
  },
  {
   "cell_type": "code",
   "execution_count": 32,
   "metadata": {},
   "outputs": [
    {
     "name": "stdout",
     "output_type": "stream",
     "text": [
      "5\n",
      "7\n",
      "8\n",
      "6\n",
      "8\n",
      "10\n",
      "7\n",
      "12\n",
      "5\n"
     ]
    }
   ],
   "source": [
    "t1 = [(1, 3, 4), (2, 4, 6), (3, 8, 1)]\n",
    "\n",
    "a = 4\n",
    "\n",
    "for i in t1:\n",
    "    for j in i:\n",
    "        print((j + 4))"
   ]
  },
  {
   "cell_type": "code",
   "execution_count": 33,
   "metadata": {},
   "outputs": [
    {
     "name": "stdout",
     "output_type": "stream",
     "text": [
      "[(5, 7, 8), (6, 8, 10), (7, 12, 5)]\n"
     ]
    }
   ],
   "source": [
    "res = [tuple((j + 4) for j in i) for i in t1]\n",
    "print(res)"
   ]
  },
  {
   "cell_type": "code",
   "execution_count": 34,
   "metadata": {},
   "outputs": [
    {
     "name": "stdout",
     "output_type": "stream",
     "text": [
      "[(5, 7, 8), (6, 8, 10), (7, 12, 5)]\n"
     ]
    }
   ],
   "source": [
    "res = [tuple(map(lambda i: i + a, j)) for j in t1]\n",
    "print(res)"
   ]
  },
  {
   "cell_type": "markdown",
   "metadata": {},
   "source": [
    "#### 19. Multiply Adjacent elements"
   ]
  },
  {
   "cell_type": "code",
   "execution_count": 35,
   "metadata": {},
   "outputs": [
    {
     "name": "stdout",
     "output_type": "stream",
     "text": [
      "(5, 35, 56, 80)\n"
     ]
    }
   ],
   "source": [
    "t1 = (1, 5, 7, 8, 10)\n",
    "\n",
    "res = tuple(i * j for i, j in zip(t1, t1[1:])) \n",
    "print(res)"
   ]
  },
  {
   "cell_type": "code",
   "execution_count": 36,
   "metadata": {},
   "outputs": [
    {
     "name": "stdout",
     "output_type": "stream",
     "text": [
      "5\n",
      "35\n",
      "56\n",
      "80\n"
     ]
    }
   ],
   "source": [
    "for i, j in zip(t1, t1[1:]):\n",
    "    print((i * j))"
   ]
  },
  {
   "cell_type": "code",
   "execution_count": 37,
   "metadata": {},
   "outputs": [
    {
     "name": "stdout",
     "output_type": "stream",
     "text": [
      "(5, 35, 56, 80)\n"
     ]
    }
   ],
   "source": [
    "res = tuple(map(lambda i,j : i * j, t1[1:], t1[:-1]))\n",
    "print(res)"
   ]
  },
  {
   "cell_type": "markdown",
   "metadata": {},
   "source": [
    "#### 20. Join Tuples if similar initial element"
   ]
  },
  {
   "cell_type": "code",
   "execution_count": 38,
   "metadata": {},
   "outputs": [
    {
     "name": "stdout",
     "output_type": "stream",
     "text": [
      "[(5, 6, 7), (6, 8, 10), (7, 13)]\n"
     ]
    }
   ],
   "source": [
    "l1 = [(5, 6), (5, 7), (6, 8), (6, 10), (7, 13)]\n",
    "\n",
    "res = []\n",
    "for sub in l1:                                           \n",
    "    if res and res[-1][0] == sub[0]:              \n",
    "        res[-1].extend(sub[1:])                        \n",
    "    else:\n",
    "        res.append([ele for ele in sub])   \n",
    "            \n",
    "res = list(map(tuple, res))\n",
    "print(res)"
   ]
  },
  {
   "cell_type": "code",
   "execution_count": 39,
   "metadata": {},
   "outputs": [
    {
     "name": "stdout",
     "output_type": "stream",
     "text": [
      "[(5, 6, 7), (6, 8, 10), (7, 13)]\n"
     ]
    }
   ],
   "source": [
    "res = []\n",
    "for sub in l1:                                           \n",
    "    if res and res[-1][0] == sub[0]:              \n",
    "        res[-1].extend(sub[1:])                        \n",
    "    else:\n",
    "        res.append([ele for ele in sub]) \n",
    "        \n",
    "res = list(map(tuple, res))\n",
    "print(res)"
   ]
  },
  {
   "cell_type": "markdown",
   "metadata": {},
   "source": [
    "#### 21. All pair combinations of 2 tuples"
   ]
  },
  {
   "cell_type": "code",
   "execution_count": 40,
   "metadata": {},
   "outputs": [
    {
     "name": "stdout",
     "output_type": "stream",
     "text": [
      "[(4, 7), (4, 8), (5, 7), (5, 8), (7, 4), (8, 4), (7, 5), (8, 5)]\n"
     ]
    }
   ],
   "source": [
    "test_tuple1 = (4, 5)\n",
    "test_tuple2 = (7, 8)\n",
    "\n",
    "res = [(a, b) for a in test_tuple1 for b in test_tuple2]\n",
    "res = res + [(b, a) for a in test_tuple1 for b in test_tuple2]\n",
    "\n",
    "print(res)"
   ]
  },
  {
   "cell_type": "code",
   "execution_count": 41,
   "metadata": {},
   "outputs": [
    {
     "name": "stdout",
     "output_type": "stream",
     "text": [
      "[(4, 7), (4, 8), (5, 7), (5, 8), (7, 4), (8, 4), (7, 5), (8, 5)]\n"
     ]
    }
   ],
   "source": [
    "res = [(a, b) for a in test_tuple1 for b in test_tuple2]\n",
    "res = res + [(b, a) for a in test_tuple1 for b in test_tuple2]\n",
    "\n",
    "print(res)"
   ]
  },
  {
   "cell_type": "markdown",
   "metadata": {},
   "source": [
    "#### 22. Remove Tuples of Length K"
   ]
  },
  {
   "cell_type": "code",
   "execution_count": 42,
   "metadata": {},
   "outputs": [
    {
     "name": "stdout",
     "output_type": "stream",
     "text": [
      "[(4, 5), (8, 6, 7), (3, 4, 6, 7)]\n"
     ]
    }
   ],
   "source": [
    "t1 = [(4, 5), (4, ), (8, 6, 7), (1, ), (3, 4, 6, 7)]\n",
    "\n",
    "#Remove Tuples of Length K\n",
    "k = 1\n",
    "\n",
    "res = [i for i in t1 if len(i) != k]\n",
    "print(res)"
   ]
  },
  {
   "cell_type": "code",
   "execution_count": 43,
   "metadata": {},
   "outputs": [
    {
     "name": "stdout",
     "output_type": "stream",
     "text": [
      "[(4, 5), (8, 6, 7), (3, 4, 6, 7)]\n"
     ]
    }
   ],
   "source": [
    "res = [i for i in t1 if len(i) != k]\n",
    "print(res)"
   ]
  },
  {
   "cell_type": "code",
   "execution_count": 44,
   "metadata": {},
   "outputs": [
    {
     "name": "stdout",
     "output_type": "stream",
     "text": [
      "[(4, 5), (8, 6, 7), (3, 4, 6, 7)]\n"
     ]
    }
   ],
   "source": [
    "res = list(filter(lambda i : len(i) != k, t1))\n",
    "print(res)"
   ]
  },
  {
   "cell_type": "markdown",
   "metadata": {},
   "source": [
    "#### 23. Remove Tuples from the List having every element as None"
   ]
  },
  {
   "cell_type": "code",
   "execution_count": 45,
   "metadata": {},
   "outputs": [
    {
     "name": "stdout",
     "output_type": "stream",
     "text": [
      "[(None, 2), (3, 4), (12, 3)]\n"
     ]
    }
   ],
   "source": [
    "t1 = [(None, 2), (None, None), (3, 4), (12, 3), (None, )]\n",
    "\n",
    "res = [i for i in t1 if  not all(j == None for j in i)]\n",
    "print(res)"
   ]
  },
  {
   "cell_type": "code",
   "execution_count": 46,
   "metadata": {},
   "outputs": [
    {
     "name": "stdout",
     "output_type": "stream",
     "text": [
      "[(None, 2), (3, 4), (12, 3)]\n"
     ]
    }
   ],
   "source": [
    "res = [i for i in t1 if not all(j == None for j in i)]\n",
    "print(res)"
   ]
  },
  {
   "cell_type": "code",
   "execution_count": 47,
   "metadata": {},
   "outputs": [
    {
     "name": "stdout",
     "output_type": "stream",
     "text": [
      "[(None, 2), (3, 4), (12, 3)]\n"
     ]
    }
   ],
   "source": [
    "res = [i for i in t1 if not all(j == None for j in i)]\n",
    "print(res)"
   ]
  },
  {
   "cell_type": "markdown",
   "metadata": {},
   "source": [
    "#### 24. sort a list of tuples by second"
   ]
  },
  {
   "cell_type": "code",
   "execution_count": 48,
   "metadata": {},
   "outputs": [
    {
     "name": "stdout",
     "output_type": "stream",
     "text": [
      "[('akash', 5), ('rishav', 10), ('gaurav', 15), ('ram', 20)]\n"
     ]
    }
   ],
   "source": [
    "tup = [('rishav', 10), ('akash', 5), ('ram', 20), ('gaurav', 15)]\n",
    "\n",
    "def sort_tupl(tup):\n",
    "    tup.sort(key = lambda x : x[1])\n",
    "    return tup\n",
    "\n",
    "print(sort_tupl(tup))"
   ]
  },
  {
   "cell_type": "code",
   "execution_count": 49,
   "metadata": {},
   "outputs": [
    {
     "name": "stdout",
     "output_type": "stream",
     "text": [
      "[('akash', 5), ('rishav', 10), ('gaurav', 15), ('ram', 20)]\n"
     ]
    }
   ],
   "source": [
    "def sort_tup(tup):\n",
    "    tup.sort(key = lambda x : x[1])\n",
    "    return tup\n",
    "\n",
    "print(sort_tup(tup))"
   ]
  },
  {
   "cell_type": "code",
   "execution_count": 50,
   "metadata": {},
   "outputs": [
    {
     "name": "stdout",
     "output_type": "stream",
     "text": [
      "[('akash', 5), ('rishav', 10), ('gaurav', 15), ('ram', 20)]\n"
     ]
    }
   ],
   "source": [
    "def sort_tup(tup):\n",
    "    return sorted(tup, key = lambda x: x[1])\n",
    "\n",
    "print(sort_tup(tup))"
   ]
  },
  {
   "cell_type": "markdown",
   "metadata": {},
   "source": [
    "#### 25. Sort Tuples by Total digits"
   ]
  },
  {
   "cell_type": "code",
   "execution_count": 51,
   "metadata": {},
   "outputs": [
    {
     "name": "stdout",
     "output_type": "stream",
     "text": [
      "[(1, 2), (12345,), (3, 4, 6, 723), (134, 234, 34)]\n"
     ]
    }
   ],
   "source": [
    "l1 = [(3, 4, 6, 723), (1, 2), (12345,), (134, 234, 34)]\n",
    "\n",
    "res = sorted(l1, key = lambda tup : sum([len(str(ele)) for ele in tup ]))\n",
    "print(res)"
   ]
  },
  {
   "cell_type": "code",
   "execution_count": 52,
   "metadata": {},
   "outputs": [
    {
     "name": "stdout",
     "output_type": "stream",
     "text": [
      "[(1, 2), (12345,), (3, 4, 6, 723), (134, 234, 34)]\n"
     ]
    }
   ],
   "source": [
    "res = sorted(l1, key = lambda i : sum([len(str(j)) for j in i]))\n",
    "print(res)"
   ]
  },
  {
   "cell_type": "code",
   "execution_count": 53,
   "metadata": {},
   "outputs": [
    {
     "name": "stdout",
     "output_type": "stream",
     "text": [
      "[(1, 2), (12345,), (3, 4, 6, 723), (134, 234, 34)]\n"
     ]
    }
   ],
   "source": [
    "res = sorted(l1, key = lambda i : sum([len(str(j)) for j in i]))\n",
    "print(res)"
   ]
  },
  {
   "cell_type": "markdown",
   "metadata": {},
   "source": [
    "#### 26. Elements frequency in Tuple"
   ]
  },
  {
   "cell_type": "code",
   "execution_count": 54,
   "metadata": {},
   "outputs": [
    {
     "name": "stdout",
     "output_type": "stream",
     "text": [
      "{4: 3, 5: 4, 6: 2}\n"
     ]
    }
   ],
   "source": [
    "t1 = (4, 5, 4, 5, 6, 6, 5, 5, 4)\n",
    "\n",
    "from collections import defaultdict\n",
    "res = defaultdict(int)\n",
    "for i in t1:\n",
    "    res[i] = res[i] + 1\n",
    "    \n",
    "print(dict(res))"
   ]
  },
  {
   "cell_type": "code",
   "execution_count": 55,
   "metadata": {},
   "outputs": [
    {
     "name": "stdout",
     "output_type": "stream",
     "text": [
      "{4: 3, 5: 4, 6: 2}\n"
     ]
    }
   ],
   "source": [
    "from collections import Counter\n",
    "res = dict(Counter(t1))\n",
    "print(res)"
   ]
  },
  {
   "cell_type": "code",
   "execution_count": 56,
   "metadata": {},
   "outputs": [
    {
     "name": "stdout",
     "output_type": "stream",
     "text": [
      "{4: 3, 5: 4, 6: 2}\n"
     ]
    }
   ],
   "source": [
    "from collections import Counter\n",
    "res = dict(Counter(t1))\n",
    "print(res)"
   ]
  },
  {
   "cell_type": "markdown",
   "metadata": {},
   "source": [
    "#### 27. Filter Range Length Tuples"
   ]
  },
  {
   "cell_type": "code",
   "execution_count": 57,
   "metadata": {},
   "outputs": [
    {
     "name": "stdout",
     "output_type": "stream",
     "text": [
      "[(5, 6), (2, 3, 5), (5, 9)]\n"
     ]
    }
   ],
   "source": [
    "l1 = [(4, ), (5, 6), (2, 3, 5), (5, 6, 8, 2), (5, 9)]\n",
    "\n",
    "i , j = 2, 3\n",
    "\n",
    "res = [a for a in l1 if len(a) >= i and len(a) <= j]\n",
    "print(res)"
   ]
  },
  {
   "cell_type": "code",
   "execution_count": 58,
   "metadata": {},
   "outputs": [
    {
     "name": "stdout",
     "output_type": "stream",
     "text": [
      "[(5, 6), (2, 3, 5), (5, 9)]\n"
     ]
    }
   ],
   "source": [
    "res = [a for a in l1 if len(a) >= i and len(a) <= j]\n",
    "print(res)"
   ]
  },
  {
   "cell_type": "code",
   "execution_count": 59,
   "metadata": {},
   "outputs": [
    {
     "name": "stdout",
     "output_type": "stream",
     "text": [
      "[(5, 6), (2, 3, 5), (5, 9)]\n"
     ]
    }
   ],
   "source": [
    "res = list(filter(lambda a : len(a) >= i and len(a) <= j, l1))\n",
    "print(res)"
   ]
  },
  {
   "cell_type": "markdown",
   "metadata": {},
   "source": [
    "#### 28. Assign Frequency to Tuples"
   ]
  },
  {
   "cell_type": "code",
   "execution_count": 60,
   "metadata": {},
   "outputs": [
    {
     "name": "stdout",
     "output_type": "stream",
     "text": [
      "[(6, 5, 8, 3), (2, 7, 2), (9, 1)]\n"
     ]
    }
   ],
   "source": [
    "l1 = [(6, 5, 8), (2, 7), (6, 5, 8), (6, 5, 8), (9, ), (2, 7)]\n",
    "\n",
    "from collections import Counter\n",
    "\n",
    "rea = [(* kay, val) for kay, val in Counter(l1).items()]\n",
    "print(rea)"
   ]
  },
  {
   "cell_type": "code",
   "execution_count": 61,
   "metadata": {},
   "outputs": [
    {
     "name": "stdout",
     "output_type": "stream",
     "text": [
      "[(6, 5, 8, 3), (2, 7, 2), (9, 1)]\n"
     ]
    }
   ],
   "source": [
    "res = [(*key, val) for key, val in Counter(l1).items()]\n",
    "print(res)"
   ]
  },
  {
   "cell_type": "code",
   "execution_count": 62,
   "metadata": {},
   "outputs": [
    {
     "name": "stdout",
     "output_type": "stream",
     "text": [
      "[(6, 5, 8, 3), (2, 7, 2), (9, 1)]\n"
     ]
    }
   ],
   "source": [
    "res = [(*key, val) for key, val in Counter(l1).most_common()]\n",
    "print(res)"
   ]
  },
  {
   "cell_type": "code",
   "execution_count": 63,
   "metadata": {},
   "outputs": [
    {
     "name": "stdout",
     "output_type": "stream",
     "text": [
      "[(6, 5, 8, 3), (2, 7, 2), (9, 1)]\n"
     ]
    }
   ],
   "source": [
    "res = [(*key, val) for key, val in Counter(l1).most_common()]\n",
    "print(res)"
   ]
  },
  {
   "cell_type": "markdown",
   "metadata": {},
   "source": [
    "#### 29. Records with Value at K index"
   ]
  },
  {
   "cell_type": "code",
   "execution_count": 64,
   "metadata": {},
   "outputs": [
    {
     "name": "stdout",
     "output_type": "stream",
     "text": [
      "[(1, 3, 6), (6, 3, 0)]\n"
     ]
    }
   ],
   "source": [
    "l1 = [(3, 1, 5), (1, 3, 6), (2, 5, 7), (5, 2, 8), (6, 3, 0)]\n",
    "\n",
    "ele = 3\n",
    "k = 1\n",
    "\n",
    "res = []\n",
    "for x, y, z in l1:\n",
    "    if y == ele:\n",
    "        res.append((x, y, z))\n",
    "        \n",
    "print(res)"
   ]
  },
  {
   "cell_type": "code",
   "execution_count": 65,
   "metadata": {},
   "outputs": [
    {
     "name": "stdout",
     "output_type": "stream",
     "text": [
      "[(1, 3, 6), (6, 3, 0)]\n"
     ]
    }
   ],
   "source": [
    "res = [b for a, b in enumerate(l1) if b[k] == ele]\n",
    "print(res)"
   ]
  },
  {
   "cell_type": "code",
   "execution_count": 66,
   "metadata": {},
   "outputs": [
    {
     "name": "stdout",
     "output_type": "stream",
     "text": [
      "[(1, 3, 6), (6, 3, 0)]\n"
     ]
    }
   ],
   "source": [
    "res = [b for a, b in enumerate(l1) if b[k] == ele]\n",
    "print(res)"
   ]
  },
  {
   "cell_type": "markdown",
   "metadata": {},
   "source": [
    "#### 30. Test if tuple is distinct"
   ]
  },
  {
   "cell_type": "code",
   "execution_count": 67,
   "metadata": {},
   "outputs": [
    {
     "name": "stdout",
     "output_type": "stream",
     "text": [
      "False\n"
     ]
    }
   ],
   "source": [
    "test_tup = (1, 4, 5, 6, 1, 4)\n",
    "\n",
    "res = True\n",
    "temp = set()\n",
    "for i in test_tup:\n",
    "    if i in temp:\n",
    "        res = False\n",
    "        break\n",
    "    temp.add(i)\n",
    "    \n",
    "print(res)"
   ]
  },
  {
   "cell_type": "code",
   "execution_count": 68,
   "metadata": {},
   "outputs": [
    {
     "name": "stdout",
     "output_type": "stream",
     "text": [
      "False\n"
     ]
    }
   ],
   "source": [
    "res = len(set(test_tup)) == len(test_tup)\n",
    "print(res)"
   ]
  },
  {
   "cell_type": "code",
   "execution_count": 69,
   "metadata": {},
   "outputs": [
    {
     "name": "stdout",
     "output_type": "stream",
     "text": [
      "False\n"
     ]
    }
   ],
   "source": [
    "res = len(set(test_tup)) == len(test_tup)\n",
    "print(res)"
   ]
  },
  {
   "cell_type": "markdown",
   "metadata": {},
   "source": [
    "#### 31. find tuples which have all elements divisible by K from a list of tuples"
   ]
  },
  {
   "cell_type": "code",
   "execution_count": 70,
   "metadata": {},
   "outputs": [
    {
     "name": "stdout",
     "output_type": "stream",
     "text": [
      "[(6, 24, 12)]\n"
     ]
    }
   ],
   "source": [
    "l1 = [(6, 24, 12), (7, 9, 6), (12, 18, 21)]\n",
    "\n",
    "K = 6\n",
    "\n",
    "res = [i for i in l1 if all(j % K == 0 for j in i)]\n",
    "print(str(res))"
   ]
  },
  {
   "cell_type": "code",
   "execution_count": 71,
   "metadata": {},
   "outputs": [
    {
     "name": "stdout",
     "output_type": "stream",
     "text": [
      "[(6, 24, 12)]\n"
     ]
    }
   ],
   "source": [
    "res = [i for i in l1 if all(j % K == 0  for j in i)]\n",
    "print(res)"
   ]
  },
  {
   "cell_type": "code",
   "execution_count": 72,
   "metadata": {},
   "outputs": [
    {
     "name": "stdout",
     "output_type": "stream",
     "text": [
      "[(6, 24, 12)]\n"
     ]
    }
   ],
   "source": [
    "res = list(filter(lambda i : all(j % K == 0 for j in i), l1))\n",
    "print(res)"
   ]
  },
  {
   "cell_type": "markdown",
   "metadata": {},
   "source": [
    "#### 32. find Tuples with positive elements in List of tuples"
   ]
  },
  {
   "cell_type": "code",
   "execution_count": 73,
   "metadata": {},
   "outputs": [
    {
     "name": "stdout",
     "output_type": "stream",
     "text": [
      "[(4, 5, 9), (4, 6)]\n"
     ]
    }
   ],
   "source": [
    "l1 = [(4, 5, 9), (-3, 2, 3), (-3, 5, 6), (4, 6)]\n",
    "\n",
    "res = [i for i in l1 if all(j > 0 for j in i)]\n",
    "print(res)"
   ]
  },
  {
   "cell_type": "code",
   "execution_count": 74,
   "metadata": {},
   "outputs": [
    {
     "name": "stdout",
     "output_type": "stream",
     "text": [
      "[(4, 5, 9), (4, 6)]\n"
     ]
    }
   ],
   "source": [
    "res = list(filter(lambda i : all(j > 0 for j in i), l1))\n",
    "print(res)"
   ]
  },
  {
   "cell_type": "markdown",
   "metadata": {},
   "source": [
    "#### 33. Count tuples occurrence in list of tuples"
   ]
  },
  {
   "cell_type": "code",
   "execution_count": 75,
   "metadata": {},
   "outputs": [
    {
     "name": "stdout",
     "output_type": "stream",
     "text": [
      "defaultdict(<class 'int'>, {('hi', 'bye'): 2, ('Geeks', 'forGeeks'): 1, ('a', 'b'): 2})\n"
     ]
    }
   ],
   "source": [
    "Input = [[('hi', 'bye')], [('Geeks', 'forGeeks')], [('a', 'b')], [('hi', 'bye')], [('a', 'b')]]\n",
    "\n",
    "import collections\n",
    "\n",
    "output = collections.defaultdict(int)\n",
    "\n",
    "for i in Input:\n",
    "    output[i[0]] += 1\n",
    "    \n",
    "print(output)"
   ]
  },
  {
   "cell_type": "code",
   "execution_count": 76,
   "metadata": {},
   "outputs": [
    {
     "name": "stdout",
     "output_type": "stream",
     "text": [
      "Counter({('hi', 'bye'): 2, ('a', 'b'): 2, ('Geeks', 'forGeeks'): 1})\n"
     ]
    }
   ],
   "source": [
    "from collections import Counter\n",
    "from itertools import chain\n",
    "\n",
    "output = Counter(chain(*Input))\n",
    "print(output)"
   ]
  },
  {
   "cell_type": "code",
   "execution_count": 77,
   "metadata": {},
   "outputs": [
    {
     "name": "stdout",
     "output_type": "stream",
     "text": [
      "Counter({('hi', 'bye'): 2, ('a', 'b'): 2, ('Geeks', 'forGeeks'): 1})\n"
     ]
    }
   ],
   "source": [
    "from collections import Counter\n",
    "from itertools import chain\n",
    "\n",
    "print(Counter(chain(*Input)))\n"
   ]
  },
  {
   "cell_type": "markdown",
   "metadata": {},
   "source": [
    "#### 34. Removing duplicates from tuple"
   ]
  },
  {
   "cell_type": "code",
   "execution_count": 78,
   "metadata": {},
   "outputs": [
    {
     "name": "stdout",
     "output_type": "stream",
     "text": [
      "(1, 2, 3, 5)\n"
     ]
    }
   ],
   "source": [
    "t1 = (1, 3, 5, 2, 3, 5, 1, 1, 3)\n",
    "\n",
    "print(tuple(set(t1)))"
   ]
  },
  {
   "cell_type": "code",
   "execution_count": 79,
   "metadata": {},
   "outputs": [
    {
     "name": "stdout",
     "output_type": "stream",
     "text": [
      "(1, 3, 5, 2)\n"
     ]
    }
   ],
   "source": [
    "from collections import OrderedDict\n",
    "res = tuple(OrderedDict.fromkeys(t1).keys())\n",
    "print(res)"
   ]
  },
  {
   "cell_type": "code",
   "execution_count": 80,
   "metadata": {},
   "outputs": [
    {
     "name": "stdout",
     "output_type": "stream",
     "text": [
      "(1, 3, 5, 2)\n"
     ]
    }
   ],
   "source": [
    "from collections import OrderedDict\n",
    "res = tuple(OrderedDict.fromkeys(t1).keys())\n",
    "print(res)"
   ]
  },
  {
   "cell_type": "markdown",
   "metadata": {},
   "source": [
    "#### 35. Remove duplicate lists in tuples (Preserving Order)"
   ]
  },
  {
   "cell_type": "raw",
   "metadata": {},
   "source": [
    "t1 = ([4, 7, 8], [1, 2, 3], [4, 7, 8], [9, 10, 11], [1, 2, 3])\n",
    "\n",
    "temp = set()\n",
    "res = [i for i in t1 if not tuple((i) in temp or temp.add(tuple(i)))]\n",
    "print(res)"
   ]
  },
  {
   "cell_type": "code",
   "execution_count": 81,
   "metadata": {},
   "outputs": [
    {
     "name": "stdout",
     "output_type": "stream",
     "text": [
      "[[4, 7, 8], [1, 2, 3], [9, 10, 11]]\n"
     ]
    }
   ],
   "source": [
    "t1 = ([4, 7, 8], [1, 2, 3], [4, 7, 8], [9, 10, 11], [1, 2, 3])\n",
    "\n",
    "from collections import OrderedDict\n",
    "res = list(OrderedDict((tuple(x), x) for x in t1).values())\n",
    "print(res)"
   ]
  },
  {
   "cell_type": "code",
   "execution_count": 82,
   "metadata": {},
   "outputs": [
    {
     "name": "stdout",
     "output_type": "stream",
     "text": [
      "[[4, 7, 8], [1, 2, 3], [9, 10, 11]]\n"
     ]
    }
   ],
   "source": [
    "from collections import OrderedDict\n",
    "res = list(OrderedDict((tuple(x), x) for x in t1).values())\n",
    "print(res)"
   ]
  },
  {
   "cell_type": "code",
   "execution_count": 83,
   "metadata": {},
   "outputs": [
    {
     "name": "stdout",
     "output_type": "stream",
     "text": [
      "[[4, 7, 8], [1, 2, 3], [9, 10, 11]]\n"
     ]
    }
   ],
   "source": [
    "from collections import OrderedDict\n",
    "res = list(OrderedDict((tuple(i), i) for i in t1).values())\n",
    "print(res)"
   ]
  },
  {
   "cell_type": "markdown",
   "metadata": {},
   "source": [
    "#### 36. Extract digits from Tuple list"
   ]
  },
  {
   "cell_type": "code",
   "execution_count": 84,
   "metadata": {},
   "outputs": [
    {
     "name": "stdout",
     "output_type": "stream",
     "text": [
      "{'5', '9', '0', '1', '2', '3'}\n"
     ]
    }
   ],
   "source": [
    "l1 = [(15, 3), (3, 9), (1, 10), (99, 2)]\n",
    "\n",
    "from itertools import chain\n",
    "temp = map(lambda x: str(x), chain.from_iterable(l1))\n",
    "res = set()\n",
    "for i in temp:\n",
    "    for x in i:\n",
    "        res.add(x)\n",
    "        \n",
    "print(res)"
   ]
  },
  {
   "cell_type": "code",
   "execution_count": 85,
   "metadata": {},
   "outputs": [
    {
     "name": "stdout",
     "output_type": "stream",
     "text": [
      "[5, 9, 0, 1, 2, 3]\n"
     ]
    }
   ],
   "source": [
    "import re\n",
    "temp = re.sub(r'[\\[\\]\\(\\), ]', '', str(l1))\n",
    "res = [int(i) for i in set(temp)]\n",
    "print(res)"
   ]
  },
  {
   "cell_type": "markdown",
   "metadata": {},
   "source": [
    "#### 37. Cross Pairing in Tuple List"
   ]
  },
  {
   "cell_type": "code",
   "execution_count": 86,
   "metadata": {},
   "outputs": [
    {
     "name": "stdout",
     "output_type": "stream",
     "text": [
      "[(7, 3), (100, 7)]\n"
     ]
    }
   ],
   "source": [
    "test_list1 = [(1, 7), (6, 7), (9, 100), (4, 21)]\n",
    "test_list2 = [(1, 3), (2, 1), (9, 7), (2, 17)]\n",
    "\n",
    "res = [(i[1], j[1]) for i in test_list1 for j in test_list2 if i[0] == j[0]]\n",
    "print(res)"
   ]
  },
  {
   "cell_type": "code",
   "execution_count": 87,
   "metadata": {},
   "outputs": [
    {
     "name": "stdout",
     "output_type": "stream",
     "text": [
      "[(7, 3), (100, 7)]\n"
     ]
    }
   ],
   "source": [
    "res = [(i[1], j[1]) for i, j in zip(test_list1, test_list2) if i[0] == j[0]]\n",
    "print(res)"
   ]
  },
  {
   "cell_type": "markdown",
   "metadata": {},
   "source": [
    "#### 38. Consecutive Kth column Difference in Tuple List"
   ]
  },
  {
   "cell_type": "code",
   "execution_count": 88,
   "metadata": {},
   "outputs": [
    {
     "name": "stdout",
     "output_type": "stream",
     "text": [
      "[1, 4, 3]\n"
     ]
    }
   ],
   "source": [
    "l1 = [(5, 4, 2), (1, 3, 4), (5, 7, 8), (7, 4, 3)]\n",
    "\n",
    "k = 1\n",
    "res = []\n",
    "\n",
    "for i in range(0, len(l1) - 1):\n",
    "    res.append(abs(l1[i][k] - l1[i + 1][k]))\n",
    "    \n",
    "print(res)"
   ]
  },
  {
   "cell_type": "code",
   "execution_count": 89,
   "metadata": {},
   "outputs": [
    {
     "name": "stdout",
     "output_type": "stream",
     "text": [
      "[1, 4, 3]\n"
     ]
    }
   ],
   "source": [
    "res = [abs(i[k] - j[k]) for i, j in zip(l1, l1[1:])]\n",
    "print(res)"
   ]
  },
  {
   "cell_type": "code",
   "execution_count": 90,
   "metadata": {},
   "outputs": [
    {
     "name": "stdout",
     "output_type": "stream",
     "text": [
      "[2, 4, 5]\n"
     ]
    }
   ],
   "source": [
    "k = 2\n",
    "res = [abs(i[k] - j[k]) for i,j in zip(l1, l1[1:])]\n",
    "print(res)"
   ]
  },
  {
   "cell_type": "markdown",
   "metadata": {},
   "source": [
    "#### 39. Kth Column Product in Tuple List"
   ]
  },
  {
   "cell_type": "code",
   "execution_count": 91,
   "metadata": {},
   "outputs": [
    {
     "name": "stdout",
     "output_type": "stream",
     "text": [
      "[18, 27]\n"
     ]
    }
   ],
   "source": [
    "l1 = [(5, 6, 7), (1, 3, 5), (8, 9, 19)]\n",
    "\n",
    "k = 1\n",
    "res = [(i[k] * j[k]) for i, j in zip(l1, l1[1:])]\n",
    "print(res)"
   ]
  },
  {
   "cell_type": "code",
   "execution_count": 92,
   "metadata": {},
   "outputs": [
    {
     "name": "stdout",
     "output_type": "stream",
     "text": [
      "665\n"
     ]
    }
   ],
   "source": [
    "l1 = [(5, 6, 7), (1, 3, 5), (8, 9, 19)]\n",
    "\n",
    "def prod(j):\n",
    "    res = 1\n",
    "    for i in j:\n",
    "        res *= i\n",
    "    return res\n",
    "\n",
    "k = 2\n",
    "\n",
    "res = prod([a[k] for a in l1])\n",
    "print(res)"
   ]
  },
  {
   "cell_type": "code",
   "execution_count": 93,
   "metadata": {},
   "outputs": [
    {
     "name": "stdout",
     "output_type": "stream",
     "text": [
      "[18, 27]\n"
     ]
    }
   ],
   "source": [
    "k = 1\n",
    "res = [(i[k] * j[k]) for i, j in zip(l1, l1[1:])]\n",
    "print(res)"
   ]
  },
  {
   "cell_type": "code",
   "execution_count": 94,
   "metadata": {},
   "outputs": [
    {
     "name": "stdout",
     "output_type": "stream",
     "text": [
      "162\n"
     ]
    }
   ],
   "source": [
    "def prod(j):\n",
    "    res = 1\n",
    "    for i in j:\n",
    "        res *= i\n",
    "    return res\n",
    "\n",
    "k = 1\n",
    "res = prod([a[k] for a in l1])\n",
    "print(res)"
   ]
  },
  {
   "cell_type": "markdown",
   "metadata": {},
   "source": [
    "#### 40. Flatten tuple of List to tuple"
   ]
  },
  {
   "cell_type": "code",
   "execution_count": 95,
   "metadata": {},
   "outputs": [
    {
     "name": "stdout",
     "output_type": "stream",
     "text": [
      "(5, 6, 6, 7, 8, 9, 3)\n"
     ]
    }
   ],
   "source": [
    "t1 = ([5, 6], [6, 7, 8, 9], [3])\n",
    "\n",
    "res = tuple(sum(t1, []))\n",
    "print(res)"
   ]
  },
  {
   "cell_type": "code",
   "execution_count": 96,
   "metadata": {},
   "outputs": [
    {
     "name": "stdout",
     "output_type": "stream",
     "text": [
      "(5, 6, 6, 7, 8, 9, 3)\n"
     ]
    }
   ],
   "source": [
    "from itertools import chain\n",
    "res = tuple(chain.from_iterable(t1))\n",
    "print(res)"
   ]
  },
  {
   "cell_type": "code",
   "execution_count": 97,
   "metadata": {},
   "outputs": [
    {
     "name": "stdout",
     "output_type": "stream",
     "text": [
      "(5, 6, 6, 7, 8, 9, 3)\n"
     ]
    }
   ],
   "source": [
    "res = tuple(sum(t1, []))\n",
    "print(res)"
   ]
  },
  {
   "cell_type": "markdown",
   "metadata": {},
   "source": [
    "#### 41. Flatten Tuples List to String"
   ]
  },
  {
   "cell_type": "code",
   "execution_count": 98,
   "metadata": {},
   "outputs": [
    {
     "name": "stdout",
     "output_type": "stream",
     "text": [
      "1 4 6 5 8 2 9 1 10\n"
     ]
    }
   ],
   "source": [
    "l1 = [('1', '4', '6'), ('5', '8'), ('2', '9'), ('1', '10')]\n",
    "\n",
    "res = ' '.join([j for i in l1 for j in i])\n",
    "print(res)"
   ]
  },
  {
   "cell_type": "code",
   "execution_count": 99,
   "metadata": {},
   "outputs": [
    {
     "name": "stdout",
     "output_type": "stream",
     "text": [
      "1 4 6 5 8 2 9 1 10\n"
     ]
    }
   ],
   "source": [
    "res = ' '.join([j for i in l1 for j in i])\n",
    "print(res)"
   ]
  },
  {
   "cell_type": "code",
   "execution_count": 100,
   "metadata": {},
   "outputs": [
    {
     "name": "stdout",
     "output_type": "stream",
     "text": [
      "1 4 6 5 8 2 9 1 10\n"
     ]
    }
   ],
   "source": [
    "from itertools import chain\n",
    "res = ' '.join(chain(*l1))\n",
    "print(res)"
   ]
  },
  {
   "cell_type": "code",
   "execution_count": 101,
   "metadata": {},
   "outputs": [
    {
     "name": "stdout",
     "output_type": "stream",
     "text": [
      "1 4 6 5 8 2 9 1 10\n"
     ]
    }
   ],
   "source": [
    "from itertools import chain\n",
    "res = ' '.join(chain(*l1))\n",
    "print(res)"
   ]
  },
  {
   "cell_type": "markdown",
   "metadata": {},
   "source": [
    "#### 42. Sort a list of tuples alphabetically"
   ]
  },
  {
   "cell_type": "code",
   "execution_count": 102,
   "metadata": {},
   "outputs": [
    {
     "name": "stdout",
     "output_type": "stream",
     "text": [
      "[('Abhishek', 29), ('Amana', 28), ('B', 'C'), ('Nikhil', 21), ('Zenat', 30)]\n"
     ]
    }
   ],
   "source": [
    "tup = [(\"Amana\", 28), (\"Zenat\", 30), (\"Abhishek\", 29), (\"Nikhil\", 21), (\"B\", \"C\")]\n",
    "\n",
    "def sorttup(tup):\n",
    "    tup.sort(key = lambda x: x[0])\n",
    "    return tup\n",
    "\n",
    "print(sorttup(tup))"
   ]
  },
  {
   "cell_type": "code",
   "execution_count": 103,
   "metadata": {},
   "outputs": [
    {
     "name": "stdout",
     "output_type": "stream",
     "text": [
      "[('Abhishek', 29), ('Amana', 28), ('B', 'C'), ('Nikhil', 21), ('Zenat', 30)]\n"
     ]
    }
   ],
   "source": [
    "def sorttup(tup):\n",
    "    tup.sort(key = lambda x: x[0])\n",
    "    return tup\n",
    "\n",
    "print(sorttup(tup))"
   ]
  },
  {
   "cell_type": "code",
   "execution_count": 104,
   "metadata": {},
   "outputs": [
    {
     "name": "stdout",
     "output_type": "stream",
     "text": [
      "[('Abhishek', 29), ('Amana', 28), ('B', 'C'), ('Nikhil', 21), ('Zenat', 30)]\n"
     ]
    }
   ],
   "source": [
    "def sortedtup(tup):\n",
    "    return sorted(tup, key = lambda x: x[0])\n",
    "\n",
    "print(sortedtup(tup))"
   ]
  },
  {
   "cell_type": "markdown",
   "metadata": {},
   "source": [
    "#### 43. Combinations of sum with tuples in tuple list"
   ]
  },
  {
   "cell_type": "code",
   "execution_count": 105,
   "metadata": {},
   "outputs": [
    {
     "name": "stdout",
     "output_type": "stream",
     "text": [
      "[(8, 11), (11, 8), (11, 11)]\n"
     ]
    }
   ],
   "source": [
    "l1 = [(2, 4), (6, 7), (5, 1), (6, 10)]\n",
    "\n",
    "res = [(i[0] + j[0], i[1] + j[1]) for i, j in zip(l1, l1[1:])]\n",
    "print(res)"
   ]
  },
  {
   "cell_type": "code",
   "execution_count": 106,
   "metadata": {},
   "outputs": [
    {
     "name": "stdout",
     "output_type": "stream",
     "text": [
      "[(8, 10), (7, 9), (8, 10), (11, 12), (12, 13), (11, 7)]\n"
     ]
    }
   ],
   "source": [
    "from itertools import combinations\n",
    "res = [(a1 + b1, a2 + b1) for (a1, a2), (b1, b2) in combinations(l1, 2)]\n",
    "print(res)"
   ]
  },
  {
   "cell_type": "code",
   "execution_count": 107,
   "metadata": {},
   "outputs": [
    {
     "name": "stdout",
     "output_type": "stream",
     "text": [
      "[(8, 11), (7, 5), (8, 14), (11, 8), (12, 17), (11, 11)]\n"
     ]
    }
   ],
   "source": [
    "from itertools import combinations\n",
    "res = [(a1 + b1, a2 + b2) for (a1, a2), (b1, b2) in combinations(l1, 2)]\n",
    "print(res)"
   ]
  },
  {
   "cell_type": "markdown",
   "metadata": {},
   "source": [
    "#### 44. Custom sorting in list of tuples"
   ]
  },
  {
   "cell_type": "code",
   "execution_count": 108,
   "metadata": {},
   "outputs": [
    {
     "name": "stdout",
     "output_type": "stream",
     "text": [
      "[(10, 1), (10, 4), (7, 5), (7, 8), (5, 6)]\n"
     ]
    }
   ],
   "source": [
    "l1 = [(7, 8), (5, 6), (7, 5), (10, 4), (10, 1)]\n",
    "\n",
    "res = sorted(l1, key = lambda x: (-x[0], x[1]))\n",
    "print(res)"
   ]
  },
  {
   "cell_type": "code",
   "execution_count": 109,
   "metadata": {},
   "outputs": [
    {
     "name": "stdout",
     "output_type": "stream",
     "text": [
      "[(10, (1, 3)), (10, (5, 4)), (7, (5, 3)), (7, (8, 4)), (5, (6, 1))]\n"
     ]
    }
   ],
   "source": [
    "l1 = [(7, (8, 4)), (5, (6, 1)), (7, (5, 3)), (10, (5, 4)), (10, (1, 3))]\n",
    "res = sorted(l1, key = lambda x: (-x[0], x[1]))\n",
    "print(res)"
   ]
  },
  {
   "cell_type": "markdown",
   "metadata": {},
   "source": [
    "#### 45. Convert tuple into list by adding the given string after every element"
   ]
  },
  {
   "cell_type": "code",
   "execution_count": 110,
   "metadata": {},
   "outputs": [
    {
     "name": "stdout",
     "output_type": "stream",
     "text": [
      "[5, 'abc', 6, 'abc', 7, 'abc', 4, 'abc', 9, 'abc']\n"
     ]
    }
   ],
   "source": [
    "t1 = (5, 6, 7, 4, 9)\n",
    "\n",
    "k = 'abc'\n",
    "\n",
    "res = [j for i in t1 for j in (i, k)]\n",
    "print(res)"
   ]
  },
  {
   "cell_type": "code",
   "execution_count": 111,
   "metadata": {},
   "outputs": [
    {
     "name": "stdout",
     "output_type": "stream",
     "text": [
      "[5, 'abc', 6, 'abc', 7, 'abc', 4, 'abc', 9, 'abc']\n"
     ]
    }
   ],
   "source": [
    "res = [j for i in t1 for j in (i, k)]\n",
    "print(res)"
   ]
  },
  {
   "cell_type": "markdown",
   "metadata": {},
   "source": [
    "#### 46. Convert Tuple Matrix to Tuple List"
   ]
  },
  {
   "cell_type": "code",
   "execution_count": 112,
   "metadata": {},
   "outputs": [
    {
     "name": "stdout",
     "output_type": "stream",
     "text": [
      "[(4, 7, 10, 18, 0, 10), (5, 8, 13, 17, 4, 1)]\n"
     ]
    }
   ],
   "source": [
    "l1 = [[(4, 5), (7, 8)], [(10, 13), (18, 17)], [(0, 4), (10, 1)]]\n",
    "\n",
    "res = [j for i in l1 for j in i]\n",
    "res = list(zip(*res))\n",
    "print(res)"
   ]
  },
  {
   "cell_type": "code",
   "execution_count": 113,
   "metadata": {},
   "outputs": [
    {
     "name": "stdout",
     "output_type": "stream",
     "text": [
      "[(4, 7, 10, 18, 0, 10), (5, 8, 13, 17, 4, 1)]\n"
     ]
    }
   ],
   "source": [
    "res = [j for i in l1 for j in i]\n",
    "res = list(zip(*res))\n",
    "print(res)"
   ]
  },
  {
   "cell_type": "markdown",
   "metadata": {},
   "source": [
    "#### 47. Convert Tuple to Tuple Pair"
   ]
  },
  {
   "cell_type": "code",
   "execution_count": 114,
   "metadata": {},
   "outputs": [
    {
     "name": "stdout",
     "output_type": "stream",
     "text": [
      "[('G', 'F'), ('G', 'G')]\n"
     ]
    }
   ],
   "source": [
    "t1 = ('G', 'F', 'G')\n",
    "\n",
    "from itertools import product\n",
    "\n",
    "t1 = iter(t1)\n",
    "res = list(product(next(t1), t1))\n",
    "print(res)"
   ]
  },
  {
   "cell_type": "code",
   "execution_count": 115,
   "metadata": {},
   "outputs": [
    {
     "name": "stdout",
     "output_type": "stream",
     "text": [
      "[('G', 'F'), ('G', 'G')]\n"
     ]
    }
   ],
   "source": [
    "t1 = ('G', 'F', 'G')\n",
    "from itertools import product\n",
    "t1 = iter(t1)\n",
    "res = list(product(next(t1), t1))\n",
    "print(res)"
   ]
  },
  {
   "cell_type": "code",
   "execution_count": 116,
   "metadata": {},
   "outputs": [
    {
     "name": "stdout",
     "output_type": "stream",
     "text": [
      "[('G', 'F'), ('G', 'G'), ('G', 'H'), ('G', 'K'), ('G', 'l')]\n"
     ]
    }
   ],
   "source": [
    "t1 = ('G', 'F', 'G', 'H', 'K', 'l')\n",
    "from itertools import product\n",
    "t1 = iter(t1)\n",
    "res = list(product(next(t1), t1))\n",
    "print(res)"
   ]
  },
  {
   "cell_type": "markdown",
   "metadata": {},
   "source": [
    "#### 48. Convert List of Lists to Tuple of Tuples"
   ]
  },
  {
   "cell_type": "code",
   "execution_count": 117,
   "metadata": {},
   "outputs": [
    {
     "name": "stdout",
     "output_type": "stream",
     "text": [
      "('Gfg', 'is', 'Best', 'Gfg', 'is', 'love', 'Gfg', 'is', 'for', 'Geeks')\n"
     ]
    }
   ],
   "source": [
    "l1 = [['Gfg', 'is', 'Best'], ['Gfg', 'is', 'love'], ['Gfg', 'is', 'for', 'Geeks']]\n",
    "\n",
    "res = tuple(j for i in l1 for j in i)\n",
    "print(res)"
   ]
  },
  {
   "cell_type": "code",
   "execution_count": 118,
   "metadata": {},
   "outputs": [
    {
     "name": "stdout",
     "output_type": "stream",
     "text": [
      "(('Gfg', 'is', 'Best'), ('Gfg', 'is', 'love'), ('Gfg', 'is', 'for', 'Geeks'))\n"
     ]
    }
   ],
   "source": [
    "l1 = [['Gfg', 'is', 'Best'], ['Gfg', 'is', 'love'], ['Gfg', 'is', 'for', 'Geeks']]\n",
    "\n",
    "res = tuple(tuple(i) for i in l1)\n",
    "print(res)"
   ]
  },
  {
   "cell_type": "code",
   "execution_count": 119,
   "metadata": {},
   "outputs": [
    {
     "name": "stdout",
     "output_type": "stream",
     "text": [
      "(('Gfg', 'is', 'Best'), ('Gfg', 'is', 'love'), ('Gfg', 'is', 'for', 'Geeks'))\n"
     ]
    }
   ],
   "source": [
    "res = tuple(tuple(i) for i in l1)\n",
    "print(res)"
   ]
  },
  {
   "cell_type": "code",
   "execution_count": 120,
   "metadata": {},
   "outputs": [
    {
     "name": "stdout",
     "output_type": "stream",
     "text": [
      "(('Gfg', 'is', 'Best'), ('Gfg', 'is', 'love'), ('Gfg', 'is', 'for', 'Geeks'))\n"
     ]
    }
   ],
   "source": [
    "res = tuple(map(tuple, l1))\n",
    "print(res)"
   ]
  },
  {
   "cell_type": "markdown",
   "metadata": {},
   "source": [
    "#### 49. Convert Matrix to Custom Tuple Matrix"
   ]
  },
  {
   "cell_type": "code",
   "execution_count": 121,
   "metadata": {},
   "outputs": [
    {
     "name": "stdout",
     "output_type": "stream",
     "text": [
      "[('abc', 4), ('abc', 5), ('abc', 6), ('is', 6), ('is', 7), ('is', 3), ('best', 1), ('best', 3), ('best', 4)]\n"
     ]
    }
   ],
   "source": [
    "l1 = [[4, 5, 6], [6, 7, 3], [1, 3, 4]]\n",
    "\n",
    "l2 = ['abc', 'is', 'best']\n",
    "\n",
    "res = [(i,a) for i, j in zip(l2, l1) for a in j]\n",
    "print(res)"
   ]
  },
  {
   "cell_type": "code",
   "execution_count": 122,
   "metadata": {},
   "outputs": [
    {
     "name": "stdout",
     "output_type": "stream",
     "text": [
      "[('abc', 'a'), ('abc', 'b'), ('abc', 'c'), ('is', 'i'), ('is', 's'), ('best', 'b'), ('best', 'e'), ('best', 's'), ('best', 't')]\n"
     ]
    }
   ],
   "source": [
    "res = [(i, a) for i, j in zip(l2, l1) for a in i]\n",
    "print(res)"
   ]
  },
  {
   "cell_type": "markdown",
   "metadata": {},
   "source": [
    "#### 50. Convert Nested Tuple to Custom Key Dictionary"
   ]
  },
  {
   "cell_type": "code",
   "execution_count": 123,
   "metadata": {},
   "outputs": [
    {
     "name": "stdout",
     "output_type": "stream",
     "text": [
      "[{'key': 4, 'value': 'Gfg', 'id': 10}, {'key': 3, 'value': 'is', 'id': 8}, {'key': 6, 'value': 'Best', 'id': 10}]\n"
     ]
    }
   ],
   "source": [
    "t1 = ((4, 'Gfg', 10), (3, 'is', 8), (6, 'Best', 10))\n",
    "\n",
    "res = [{'key': sub[0], 'value': sub[1], 'id': sub[2]} \n",
    "                               for sub in t1]\n",
    "\n",
    "print(res)"
   ]
  },
  {
   "cell_type": "markdown",
   "metadata": {},
   "source": [
    "#### 51. Convert tuple to float value"
   ]
  },
  {
   "cell_type": "code",
   "execution_count": 124,
   "metadata": {},
   "outputs": [
    {
     "name": "stdout",
     "output_type": "stream",
     "text": [
      "4.56\n"
     ]
    }
   ],
   "source": [
    "test_tup = (4, 56)\n",
    "\n",
    "res = float('.'.join(str(i) for i in test_tup))\n",
    "print(res)"
   ]
  },
  {
   "cell_type": "code",
   "execution_count": 125,
   "metadata": {},
   "outputs": [
    {
     "name": "stdout",
     "output_type": "stream",
     "text": [
      "4.56\n"
     ]
    }
   ],
   "source": [
    "res = float('.'.join(str(i) for i in test_tup))\n",
    "print(res)"
   ]
  }
 ],
 "metadata": {
  "kernelspec": {
   "display_name": "Python 3",
   "language": "python",
   "name": "python3"
  },
  "language_info": {
   "codemirror_mode": {
    "name": "ipython",
    "version": 3
   },
   "file_extension": ".py",
   "mimetype": "text/x-python",
   "name": "python",
   "nbconvert_exporter": "python",
   "pygments_lexer": "ipython3",
   "version": "3.7.9"
  }
 },
 "nbformat": 4,
 "nbformat_minor": 4
}
